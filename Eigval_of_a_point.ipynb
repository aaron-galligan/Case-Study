{
 "cells": [
  {
   "cell_type": "code",
   "execution_count": 1,
   "metadata": {},
   "outputs": [],
   "source": [
    "from custom_functions import *\n",
    "import numpy as np\n",
    "import matplotlib.pyplot as plt\n",
    "from scipy.integrate import odeint\n",
    "from scipy.integrate import solve_ivp"
   ]
  },
  {
   "cell_type": "code",
   "execution_count": 10,
   "metadata": {},
   "outputs": [],
   "source": [
    "####### Nonexpanded Dimention\n",
    "\n",
    "def f1(x_arr, b, g):\n",
    "    #x_arr is an array where x_arr[0] = x and x_arr[1] = z\n",
    "\n",
    "    dxdt = x_arr[0] - (x_arr[0]**2)*np.exp(-b*x_arr[0]*x_arr[1])\n",
    "    dzdt = x_arr[1] - (x_arr[1]**2)*np.exp(-g*x_arr[0])\n",
    "\n",
    "    return np.array([dxdt, dzdt])\n",
    "\n",
    "\n",
    "\n",
    "def df_for_f1(x):\n",
    "    h = 1e-06\n",
    "    J = MyJacobian(function_being_used, x, h)\n",
    "    J = np.squeeze(J, axis = 2)\n",
    "    return J\n",
    "    \n",
    "def grid_of_coords(max_x_val, increment):\n",
    "    x=np.linspace(-max_x_val, max_x_val, int(2*max_x_val/increment + 1))\n",
    "    y=np.linspace(-max_x_val, max_x_val, int(2*max_x_val/increment + 1))\n",
    "\n",
    "    xx,yy=np.meshgrid(x,y)\n",
    "    coords=np.array((xx.ravel(), yy.ravel())).T\n",
    "    return coords\n",
    "\n",
    "def bin_repeats(points, threshold):\n",
    "\n",
    "    # Function to calculate the distance between two points\n",
    "    def distance(point1, point2):\n",
    "        return np.sqrt(np.sum((point1 - point2) ** 2))\n",
    "\n",
    "    # Create a mask for points to keep\n",
    "    keep_mask = np.ones(len(points), dtype=bool)\n",
    "\n",
    "    # Iterate through the points and filter based on the threshold\n",
    "    for i in range(len(points)):\n",
    "        if keep_mask[i]:\n",
    "            for j in range(i + 1, len(points)):\n",
    "                if distance(points[i], points[j]) < threshold:\n",
    "                    keep_mask[j] = False\n",
    "\n",
    "    # Use the mask to filter the points and create a 2D NumPy array\n",
    "    return points[keep_mask] "
   ]
  },
  {
   "cell_type": "markdown",
   "metadata": {},
   "source": [
    "### Create Grid of points and then find where they converge"
   ]
  },
  {
   "cell_type": "code",
   "execution_count": 12,
   "metadata": {},
   "outputs": [
    {
     "name": "stdout",
     "output_type": "stream",
     "text": [
      "matrix is singular\n",
      "matrix is singular\n",
      "matrix is singular\n",
      "matrix is singular\n",
      "[[ 0.00000000e+00 -1.15898990e-22]\n",
      " [-9.25732798e-43  1.00000000e+00]\n",
      " [ 1.00000000e+00 -7.88860905e-28]\n",
      " [ 1.41080616e+00  2.43946544e-01]]\n"
     ]
    }
   ],
   "source": [
    "\n",
    "#comment out to save ti\n",
    "def function_being_used(x0):\n",
    "    b = 1\n",
    "    g = -1\n",
    "    return f1(x0, b, g)\n",
    "\n",
    "\n",
    "x0 = np.array([0, 1.])\n",
    "tol = 1e-8\n",
    "maxit = 100\n",
    "\n",
    "#coords = grid_of_coords(15, 0.1) #Note that this did not give anything different than 15, 0.25\n",
    "coords = grid_of_coords(10, 0.5)\n",
    "eqlib_list = np.empty(shape=[0, 2])\n",
    "\n",
    "for i in coords:\n",
    "    x , converged , jacobian = MySolve(function_being_used, i, df_for_f1, tol, maxit)\n",
    "    \n",
    "    if converged:\n",
    "        x = np.squeeze(x, axis = 1)\n",
    "        eqlib_list = np.append(eqlib_list, np.array([x]), axis=0)\n",
    "\n",
    "print(bin_repeats(eqlib_list, 1e-5))\n",
    "equlib_list = bin_repeats(eqlib_list, 1e-5)\n",
    "\n"
   ]
  },
  {
   "cell_type": "markdown",
   "metadata": {},
   "source": [
    "### Jacobian and Eigenvalues"
   ]
  },
  {
   "cell_type": "code",
   "execution_count": 13,
   "metadata": {},
   "outputs": [
    {
     "name": "stdout",
     "output_type": "stream",
     "text": [
      "[[ 0.00000000e+00 -1.15898990e-22]\n",
      " [-9.25732798e-43  1.00000000e+00]\n",
      " [ 1.00000000e+00 -7.88860905e-28]\n",
      " [ 1.41080616e+00  2.43946544e-01]]\n",
      "[1.+0.j 1.+0.j]\n",
      "[-1.+0.j  1.+0.j]\n",
      "[-1.+0.j  1.+0.j]\n",
      "[-0.82791936+0.6752282j -0.82791936-0.6752282j]\n"
     ]
    }
   ],
   "source": [
    "print(equlib_list)\n",
    "\n",
    "\n",
    "for i in equlib_list:\n",
    "    J = df_for_f1(i)\n",
    "    eig_val = linalg.eig(J)[0]\n",
    "    print(eig_val)"
   ]
  }
 ],
 "metadata": {
  "kernelspec": {
   "display_name": "Python 3",
   "language": "python",
   "name": "python3"
  },
  "language_info": {
   "codemirror_mode": {
    "name": "ipython",
    "version": 3
   },
   "file_extension": ".py",
   "mimetype": "text/x-python",
   "name": "python",
   "nbconvert_exporter": "python",
   "pygments_lexer": "ipython3",
   "version": "3.9.1"
  },
  "orig_nbformat": 4
 },
 "nbformat": 4,
 "nbformat_minor": 2
}
