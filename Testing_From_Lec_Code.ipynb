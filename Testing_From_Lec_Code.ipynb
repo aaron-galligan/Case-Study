{
 "cells": [
  {
   "cell_type": "code",
   "execution_count": 1,
   "metadata": {},
   "outputs": [],
   "source": [
    "from custom_functions import *\n",
    "import numpy as np\n",
    "import matplotlib.pyplot as plt\n",
    "from scipy.integrate import odeint"
   ]
  },
  {
   "cell_type": "code",
   "execution_count": 2,
   "metadata": {},
   "outputs": [],
   "source": [
    "def f1(x_arr, b, g):\n",
    "    #x_arr is an array where x_arr[0] = x and x_arr[1] = z\n",
    "\n",
    "    dxdt = x_arr[0] - (x_arr[0]**2)*np.exp(-b*x_arr[0]*x_arr[1])\n",
    "    dzdt = x_arr[1] - (x_arr[1]**2)*np.exp(-g*x_arr[0])\n",
    "\n",
    "    return np.array([dxdt, dzdt])\n",
    "\n",
    "\n",
    "def df(x):\n",
    "    h = 1e-06\n",
    "    J = MyJacobian(function_being_used, x, h)\n",
    "    if J.ndim > 2:\n",
    "        J = J.squeeze(axis=2)\n",
    "    return J\n",
    "\n",
    "def function_for_IVP(t, x):\n",
    "    b = 1\n",
    "    g = -1\n",
    "    return f1(x, b, g)"
   ]
  },
  {
   "cell_type": "markdown",
   "metadata": {},
   "source": [
    "## Eqlib points for g = -1, b = 1 is (1.4108, 0.2439)"
   ]
  },
  {
   "cell_type": "markdown",
   "metadata": {},
   "source": [
    "## Now to track the euqlib, \n",
    "need to set up a RHS"
   ]
  },
  {
   "cell_type": "markdown",
   "metadata": {},
   "source": [
    "## userf1 is without extra dims"
   ]
  },
  {
   "cell_type": "code",
   "execution_count": 3,
   "metadata": {},
   "outputs": [],
   "source": [
    "def userf(x_arr):\n",
    "    #g is included in x_arr\n",
    "    #x_arr is an array where x_arr[0] = x and x_arr[1] = z, x_arr[2] = g\n",
    "    b = 1\n",
    "    dxdt = x_arr[0] - (x_arr[0]**2)*np.exp(-b*x_arr[0]*x_arr[1])\n",
    "    dzdt = x_arr[1] - (x_arr[1]**2)*np.exp(-x_arr[2]*x_arr[0])\n",
    "\n",
    "    return np.array([dxdt, dzdt])\n",
    "\n",
    "def userdf(x):\n",
    "    h = 1e-06\n",
    "    J = MyJacobian(userf, x, h)\n",
    "    if J.ndim > 2:\n",
    "        J = J.squeeze(axis=2)\n",
    "    return J"
   ]
  },
  {
   "cell_type": "code",
   "execution_count": 4,
   "metadata": {},
   "outputs": [],
   "source": [
    "def userf1(t, x_arr, p):\n",
    "    '''2D ODE system for the AMOC\n",
    "    Input\n",
    "    t  : float\n",
    "        time value\n",
    "    x  : array (2, N)\n",
    "        state space values\n",
    "    p  : array (2,)\n",
    "        parameter values\n",
    "    \n",
    "    \n",
    "    Returns\n",
    "    xout: array, shape (2, N)\n",
    "           Array containing derivative at x\n",
    "           2nd dimension denotes derivatives for different points\n",
    "    '''\n",
    "    \n",
    "    if x_arr.ndim == 1:\n",
    "        x_arr = np.expand_dims(x_arr, axis=1)\n",
    "    \n",
    "    n = x_arr.shape\n",
    "    xout = np.empty(n)\n",
    "    xout[:] = np.nan \n",
    "\n",
    "    b = p[0,]\n",
    "    g = p[1,]\n",
    "    \n",
    "    \n",
    "    b = 1\n",
    "    xout[0,:] = x_arr[0, :] - (x_arr[0, :]**2)*np.exp(-b*x_arr[0, :]*x_arr[1, :])\n",
    "    xout[1,:] = x_arr[1, :] - (x_arr[1, :]**2)*np.exp(-g*x_arr[0, :])\n",
    "    return xout"
   ]
  },
  {
   "cell_type": "markdown",
   "metadata": {},
   "source": [
    "# Find Eq with b = 1, g = -1"
   ]
  },
  {
   "cell_type": "code",
   "execution_count": 5,
   "metadata": {},
   "outputs": [
    {
     "name": "stdout",
     "output_type": "stream",
     "text": [
      "[1.41080616 0.24394654]\n"
     ]
    },
    {
     "data": {
      "image/png": "[encoded data removed]",
      "text/plain": [
       "<Figure size 432x288 with 1 Axes>"
      ]
     },
     "metadata": {
      "needs_background": "light"
     },
     "output_type": "display_data"
    }
   ],
   "source": [
    "# Define parameters p\n",
    "b = 1\n",
    "g = -1\n",
    "p = np.array([b, g])\n",
    "\n",
    "#define variable to go into MyIVP\n",
    "x0 = np.array([1.5,0.2])\n",
    "tspan = [0,100]\n",
    "h = 0.01\n",
    "\n",
    "#call MyIVP\n",
    "[X,t,xeq1] = MyIVP(lambda t,x:userf1(t,x,p),x0,tspan,h)\n",
    "X = np.squeeze(X)\n",
    "xeq1 = np.squeeze(xeq1)\n",
    "print(xeq1)\n",
    "\n",
    "#Plot\n",
    "plt.plot(X[0,:],X[1,:])\n",
    "plt.xlabel(\"$x$\")\n",
    "plt.ylabel(\"$y$\")\n",
    "plt.title(\"Phase plane: F=0\")\n",
    "\n",
    "plt.show()"
   ]
  },
  {
   "cell_type": "markdown",
   "metadata": {},
   "source": [
    "### Jacobian and Eigenvalues"
   ]
  },
  {
   "cell_type": "code",
   "execution_count": 6,
   "metadata": {},
   "outputs": [
    {
     "name": "stdout",
     "output_type": "stream",
     "text": [
      "[-0.82791352+0.67524463j -0.82791352-0.67524463j]\n"
     ]
    }
   ],
   "source": [
    "\n",
    "J = MyJacobian(lambda x:userf1(0,x,p),xeq1,h)\n",
    "eig_val = linalg.eig(J[:,:,0])[0]\n",
    "\n",
    "print(eig_val)"
   ]
  },
  {
   "cell_type": "markdown",
   "metadata": {},
   "source": [
    "# Now Track the Equilibria"
   ]
  },
  {
   "cell_type": "code",
   "execution_count": 7,
   "metadata": {},
   "outputs": [
    {
     "name": "stdout",
     "output_type": "stream",
     "text": [
      "[ 1.41080616  0.24394654 -1.        ]\n",
      "[0.50735311 0.16717552 0.84536689]\n"
     ]
    },
    {
     "name": "stderr",
     "output_type": "stream",
     "text": [
      "C:\\Users\\aaron\\AppData\\Local\\Temp\\ipykernel_43780\\2298248324.py:2: VisibleDeprecationWarning: Creating an ndarray from ragged nested sequences (which is a list-or-tuple of lists-or-tuples-or ndarrays with different lengths or shapes) is deprecated. If you meant to do this, you must specify 'dtype=object' when creating the ndarray.\n",
      "  RHS = lambda y: userf1(0,y[0:2,:],np.array([b, y[2,:]]))\n"
     ]
    }
   ],
   "source": [
    "# Define RHS for tracking equilibria\n",
    "RHS = lambda y: userf1(0,y[0:2,:],np.array([b, y[2,:]]))\n",
    "\n",
    "h=1e-6\n",
    "df= lambda y: np.squeeze(MyJacobian(RHS,y,h),axis=2)\n",
    "\n",
    "# Define MyTrackCurve initial points, MAKE GUESS OF Y TANGENT\n",
    "y0 = np.append(xeq1,np.array([g]),axis=0)\n",
    "print(y0)\n",
    "ytan0 = np.expand_dims(np.array([0.,0.,1.]),axis=1) # guess in the direction of increasing F\n",
    "\n",
    "# Solve for the true initial tangent\n",
    "df0 = df(y0)\n",
    "zeros0 = np.zeros((2,))\n",
    "zeros1 = np.append(zeros0,np.array([1.]),axis=0)\n",
    "f0 = np.concatenate((df0,np.transpose(ytan0)),axis=0)\n",
    "z = np.linalg.lstsq(f0,zeros1,rcond=None)[0]\n",
    "mult = np.sign(np.matmul(np.transpose(z),ytan0))\n",
    "ytan = np.divide(z,linalg.norm(z))*mult\n",
    "\n",
    "print(ytan)\n",
    "\n",
    "ylist1 = MyTrackCurve(RHS,df,y0,ytan,nmax=2500,stepsize=0.01)\n",
    "\n",
    "\n",
    "#NOW OTHER DIRECTION\n",
    "# guess in direction for decreasing F\n",
    "ytan0 = np.expand_dims(np.array([0.,0.,-1.]),axis=1)\n",
    "\n",
    "# Solve for the true initial tangent\n",
    "f0 = np.concatenate((df0,np.transpose(ytan0)),axis=0)\n",
    "z = np.linalg.lstsq(f0,zeros1,rcond=None)[0]\n",
    "mult = np.sign(np.matmul(np.transpose(z),ytan0))\n",
    "ytan = np.divide(z,linalg.norm(z))*mult\n",
    "\n",
    "ylist2 = MyTrackCurve(RHS,df,y0,ytan,nmax=1000,stepsize=0.01)\n",
    "\n",
    "###Concatenate\n",
    "#ylist = np.concatenate((np.flip(ylist2,1),ylist1),axis=1);\n",
    "ylist = ylist1.copy()"
   ]
  },
  {
   "cell_type": "code",
   "execution_count": 8,
   "metadata": {},
   "outputs": [
    {
     "name": "stdout",
     "output_type": "stream",
     "text": [
      "[ 1.41080616  0.24394654 -1.        ]\n"
     ]
    },
    {
     "data": {
      "image/png": "[encoded data removed]",
      "text/plain": [
       "<Figure size 432x288 with 1 Axes>"
      ]
     },
     "metadata": {
      "needs_background": "light"
     },
     "output_type": "display_data"
    }
   ],
   "source": [
    "#ylist = np.concatenate((np.flip(ylist2,1),ylist1),axis=1);\n",
    "#ylist = ylist1.copy\n",
    "print(ylist[:,0])\n",
    "plt.plot(ylist[2,:],ylist[1,:])\n",
    "plt.xlabel(\"$g$\")\n",
    "plt.ylabel(\"$y$\")\n",
    "\n",
    "plt.show()"
   ]
  },
  {
   "cell_type": "code",
   "execution_count": 9,
   "metadata": {},
   "outputs": [
    {
     "data": {
      "image/png": "[encoded data removed]",
      "text/plain": [
       "<Figure size 1080x288 with 3 Axes>"
      ]
     },
     "metadata": {
      "needs_background": "light"
     },
     "output_type": "display_data"
    }
   ],
   "source": [
    "fig, axs = plt.subplots(1, 3, figsize=(15, 4))\n",
    "\n",
    "ax1 = axs[0]\n",
    "ax1.plot(ylist[2,:],ylist[1,:], label = 'g vs y')\n",
    "ax1.set_xlabel(\"$g$\")\n",
    "ax1.set_ylabel(\"$y$\")\n",
    "ax1.legend()\n",
    "ax1.set_title(\"\")\n",
    "\n",
    "ax2 = axs[1]\n",
    "ax2.plot(ylist[2,:], ylist[0,:], label = 'g vs x')\n",
    "ax2.set_xlabel(\"$g$\")\n",
    "ax2.set_ylabel(\"$x$\")\n",
    "ax2.legend()\n",
    "ax2.set_title(\"\")\n",
    "\n",
    "ax3 = axs[2]\n",
    "length = ylist.shape[1] # The number of points in ylist\n",
    "ax3.plot(ylist[0,:], ylist[1,:], label = 'Equilibrium point as g varies.')\n",
    "label = ' g = ' + str(ylist[2,0])\n",
    "ax3.plot(ylist[0,0], ylist[1,0], '.', color = 'r')\n",
    "ax3.text(ylist[0,0], ylist[1,0],label)\n",
    "\n",
    "label = ' g = ' + str(ylist[2,int(length/2)])\n",
    "ax3.plot(ylist[0,int(length/2)], ylist[1,int(length/2)], '.', color = 'r' )\n",
    "ax3.text(ylist[0,int(length/2)], ylist[1,int(length/2)],label)\n",
    "\n",
    "label = ' g = ' + str(ylist[2,length-1])\n",
    "ax3.plot(ylist[0,int(length-1)], ylist[1,int(length-1)], '.', color = 'r' )\n",
    "ax3.text(ylist[0,int(length-1)], ylist[1,int(length-1)],label)\n",
    "\n",
    "ax3.set_xlabel(\"$x$\")\n",
    "ax3.set_ylabel(\"$y$\")\n",
    "ax3.legend()\n",
    "ax3.set_title(\"\")\n",
    "\n",
    "#ax4 = axs[1, 1]\n",
    "\n",
    "plt.show()"
   ]
  },
  {
   "cell_type": "markdown",
   "metadata": {},
   "source": [
    "### Find stability at each point"
   ]
  },
  {
   "cell_type": "code",
   "execution_count": 10,
   "metadata": {},
   "outputs": [
    {
     "name": "stderr",
     "output_type": "stream",
     "text": [
      "C:\\Users\\aaron\\AppData\\Local\\Temp\\ipykernel_43780\\1015404235.py:4: RuntimeWarning: invalid value encountered in multiply\n",
      "  eig_val = np.empty((ylist.shape[1],ylist.shape[0]-1),dtype=np.csingle)*np.nan\n"
     ]
    },
    {
     "name": "stdout",
     "output_type": "stream",
     "text": [
      "should be same [1.41080616 0.24394654] [1.41080616 0.24394654]\n",
      "[[-0.82791936+0.6752282j  -0.82791936-0.6752282j ]\n",
      " [-0.82611233+0.67677957j -0.82611233-0.67677957j]\n",
      " [-0.8242875 +0.6783292j  -0.8242875 -0.6783292j ]\n",
      " ...\n",
      " [ 0.6324104 +2.0325696j   0.6324104 -2.0325696j ]\n",
      " [ 0.6326014 +2.0328245j   0.6326014 -2.0328245j ]\n",
      " [ 0.6327923 +2.0330796j   0.6327923 -2.0330796j ]]\n"
     ]
    }
   ],
   "source": [
    "#Finding the eigen values (eig_val), and stability (stab) at at value of g\n",
    "stab = np.empty((ylist.shape[1],1))*np.nan\n",
    "#note that the number of eigen values at each point of g will be ylist's (=[x,z,g])  width-1\n",
    "eig_val = np.empty((ylist.shape[1],ylist.shape[0]-1),dtype=np.csingle)*np.nan\n",
    "\n",
    "print('should be same',ylist[0:2,0], xeq1)\n",
    "\n",
    "#J = MyJacobian(lambda x:userf1(0,x,p_i),ylist[0:2,i],h)\n",
    "#eig_val[i,:] = linalg.eig(J[:,:,0])[0]\n",
    "\n",
    "for i in np.arange(0,ylist.shape[1]):\n",
    "    p_i =np.array([b, ylist[2,i]])\n",
    "    J = MyJacobian(lambda x:userf1(0,x,p_i),ylist[0:2,i],h)\n",
    "    eig_val[i,:] = linalg.eig(J[:,:,0])[0]\n",
    "    max_eig = max(np.real(eig_val[i,:]))\n",
    "    stab[i] = max_eig > 0\n",
    "    if (i>0 and stab[i] != stab[i-1] and stab[i-1] != 10):\n",
    "        #print(max_eig)\n",
    "        stab[i] = 10\n",
    "\n",
    "\n",
    "print(eig_val)"
   ]
  },
  {
   "cell_type": "markdown",
   "metadata": {},
   "source": [
    "### Plot stabilities"
   ]
  },
  {
   "cell_type": "code",
   "execution_count": 11,
   "metadata": {},
   "outputs": [
    {
     "name": "stdout",
     "output_type": "stream",
     "text": [
      "7.396477518733321 0.270534706666858 -0.17675371553680821\n",
      "[0.00050194+1.2708336j 0.00050194-1.2708336j]\n",
      "[[-0.82791936+0.6752282j  -0.82791936-0.6752282j ]\n",
      " [-0.82611233+0.67677957j -0.82611233-0.67677957j]\n",
      " [-0.8242875 +0.6783292j  -0.8242875 -0.6783292j ]\n",
      " ...\n",
      " [ 0.6324104 +2.0325696j   0.6324104 -2.0325696j ]\n",
      " [ 0.6326014 +2.0328245j   0.6326014 -2.0328245j ]\n",
      " [ 0.6327923 +2.0330796j   0.6327923 -2.0330796j ]]\n"
     ]
    },
    {
     "data": {
      "image/png": "[encoded data removed]",
      "text/plain": [
       "<Figure size 432x288 with 1 Axes>"
      ]
     },
     "metadata": {
      "needs_background": "light"
     },
     "output_type": "display_data"
    }
   ],
   "source": [
    "for i in np.arange(0,ylist.shape[1]):\n",
    "    if stab[i] == False:\n",
    "        plt.plot(ylist[2,i],ylist[1,i],'g.',markersize=2,label = 'stable eq')\n",
    "    elif stab[i] == True:\n",
    "        plt.plot(ylist[2,i],ylist[1,i],'r.',markersize=2,label = 'unstable eq')\n",
    "    elif stab[i] == 10:\n",
    "        plt.plot(ylist[2,i],ylist[1,i],marker='o',color='b',markersize=6,label='SN')\n",
    "        print(ylist[0,i],ylist[1,i], ylist[2,i])\n",
    "        print(eig_val[i])\n",
    "        \n",
    "    else:\n",
    "        print('Error - undefined stability type')\n",
    "\n",
    "print(eig_val)"
   ]
  },
  {
   "cell_type": "markdown",
   "metadata": {},
   "source": [
    "# 2 Parameter Track (in b and g)\n",
    "The change in stability found above was likely a hopf Bif"
   ]
  },
  {
   "cell_type": "code",
   "execution_count": 20,
   "metadata": {},
   "outputs": [],
   "source": [
    "#Define functions\n",
    "def df_2param(y):\n",
    "    J = MyJacobian(lambda x:userf1(0,x,np.array([y[3],y[2]])),y[0:2],h)\n",
    "    J = np.squeeze(J,axis=2)\n",
    "    return J\n",
    "\n",
    "######### Fold Bif ############\n",
    "\n",
    "RHS_fold = lambda y: np.append(userf1(0,y[0:2,:],np.array([y[3,:],y[2,:]])),\n",
    "                               np.expand_dims(np.array([linalg.det(df_2param(y))]),axis=1),axis=0)\n",
    "\n",
    "df_fold= lambda y: np.squeeze(MyJacobian(RHS_fold,y,h),axis=2)\n",
    "\n",
    "######### Hopf Bif ############\n",
    "\n",
    "RHS_hopf = lambda y: np.append(userf1(0,y[0:2,:],np.array([y[3,:],y[2,:]])),\n",
    "                               np.expand_dims(np.array([np.trace(df_2param(y))]),axis=1),axis=0)\n",
    "\n",
    "df_hopf= lambda y: np.squeeze(MyJacobian(RHS_hopf,y,h),axis=2)"
   ]
  },
  {
   "cell_type": "markdown",
   "metadata": {},
   "source": [
    "### Track Curve"
   ]
  },
  {
   "cell_type": "code",
   "execution_count": 18,
   "metadata": {},
   "outputs": [
    {
     "name": "stdout",
     "output_type": "stream",
     "text": [
      "[ 7.39647752  0.27053471 -0.17675372  1.        ]\n",
      "[-3.38437009e-15  6.22161634e-17 -2.09704027e-17  1.00000000e+00]\n"
     ]
    },
    {
     "name": "stderr",
     "output_type": "stream",
     "text": [
      "c:\\Users\\aaron\\OneDrive\\Documents\\AAUni\\Dynamical systems and chaos\\Case Study\\custom_functions.py:56: ComplexWarning: Casting complex values to real discards the imaginary part\n",
      "  df[:, i, :] = dfi\n",
      "C:\\Users\\aaron\\AppData\\Local\\Temp\\ipykernel_43780\\2701406499.py:30: ComplexWarning: Casting complex values to real discards the imaginary part\n",
      "  xout[0,:] = x_arr[0, :] - (x_arr[0, :]**2)*np.exp(-b*x_arr[0, :]*x_arr[1, :])\n",
      "C:\\Users\\aaron\\AppData\\Local\\Temp\\ipykernel_43780\\2701406499.py:31: ComplexWarning: Casting complex values to real discards the imaginary part\n",
      "  xout[1,:] = x_arr[1, :] - (x_arr[1, :]**2)*np.exp(-g*x_arr[0, :])\n",
      "c:\\Users\\aaron\\OneDrive\\Documents\\AAUni\\Dynamical systems and chaos\\Case Study\\custom_functions.py:245: ComplexWarning: Casting complex values to real discards the imaginary part\n",
      "  ylist[:,j+1] = np.squeeze(yk,axis=1)\n"
     ]
    }
   ],
   "source": [
    "#RHS_used and df_used is either RHS_fold or RHS_hopf\n",
    "RHS_used = RHS_hopf\n",
    "df_used = df_hopf\n",
    "\n",
    "\n",
    "# Define MyTrackCurve initial points\n",
    "f_inds = np.where(stab == 10)[0]\n",
    "y0 = np.array([ylist[0,f_inds[0]], ylist[1,f_inds[0]], ylist[2,f_inds[0]],b])\n",
    "print(y0)\n",
    "\n",
    "ytan0 = np.expand_dims(np.array([0,0,1,1]),axis=1) # guess i the direction of increasing params\n",
    "\n",
    "# Solve for the true initial tangent\n",
    "df0 = np.squeeze(df_used(y0))\n",
    "zeros0 = np.zeros((3,))\n",
    "zeros1 = np.append(zeros0,np.array([1.]),axis=0)\n",
    "f0 = np.concatenate((df0,np.transpose(ytan0)),axis=0)\n",
    "z = np.linalg.lstsq(f0,zeros1,rcond=None)[0]\n",
    "mult = np.sign(np.matmul(np.transpose(z),ytan0))\n",
    "ytan = np.divide(z,linalg.norm(z))*mult\n",
    "print(ytan)\n",
    "\n",
    "yused1 = MyTrackCurve(RHS_used,df_used,y0,ytan,stepsize=0.1,nmax=200)\n",
    "\n",
    "# guess in direction for decreasing params\n",
    "ytan0 = np.expand_dims(np.array([0,0,-1,-1]),axis=1)\n",
    "\n",
    "# Solve for the true initial tangent\n",
    "f0 = np.concatenate((df0,np.transpose(ytan0)),axis=0)\n",
    "z = np.linalg.lstsq(f0,zeros1,rcond=None)[0]\n",
    "mult = np.sign(np.matmul(np.transpose(z),ytan0))\n",
    "ytan = np.divide(z,linalg.norm(z))*mult\n",
    "\n",
    "yused2 = MyTrackCurve(RHS_used,df_used,y0,ytan,stepsize=0.1,nmax=200)"
   ]
  },
  {
   "cell_type": "code",
   "execution_count": 19,
   "metadata": {},
   "outputs": [
    {
     "data": {
      "image/png": "[encoded data removed]",
      "text/plain": [
       "<Figure size 1080x288 with 3 Axes>"
      ]
     },
     "metadata": {
      "needs_background": "light"
     },
     "output_type": "display_data"
    }
   ],
   "source": [
    "yused = np.concatenate((np.flip(yused2,1),yused1),axis=1);\n",
    "#print(yused)\n",
    "fig, axs = plt.subplots(1, 3, figsize=(15, 4))\n",
    "\n",
    "ax1 = axs[0]\n",
    "ax1.plot(yused[2,:],yused[3,:], label = 'b vs g')\n",
    "#ax1.plot(yused1[:,2],yused1[:,3], label = 'b vs g')\n",
    "ax1.set_xlabel(\"$b$\")\n",
    "ax1.set_ylabel(\"$g$\")\n",
    "ax1.set_xlim(-5,5)\n",
    "ax1.legend()\n",
    "ax1.set_title(\"\")\n",
    "\n",
    "#plt.axis([0.7,1.3,0,100])\n",
    "\n",
    "plt.show()"
   ]
  },
  {
   "cell_type": "code",
   "execution_count": null,
   "metadata": {},
   "outputs": [],
   "source": []
  }
 ],
 "metadata": {
  "kernelspec": {
   "display_name": "Python 3",
   "language": "python",
   "name": "python3"
  },
  "language_info": {
   "codemirror_mode": {
    "name": "ipython",
    "version": 3
   },
   "file_extension": ".py",
   "mimetype": "text/x-python",
   "name": "python",
   "nbconvert_exporter": "python",
   "pygments_lexer": "ipython3",
   "version": "3.9.1"
  },
  "orig_nbformat": 4
 },
 "nbformat": 4,
 "nbformat_minor": 2
}
