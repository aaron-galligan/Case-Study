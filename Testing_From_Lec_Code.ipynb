{
 "cells": [
  {
   "cell_type": "code",
   "execution_count": 1,
   "metadata": {},
   "outputs": [],
   "source": [
    "from custom_functions import *\n",
    "import numpy as np\n",
    "import matplotlib.pyplot as plt\n",
    "from scipy.integrate import odeint"
   ]
  },
  {
   "cell_type": "code",
   "execution_count": 2,
   "metadata": {},
   "outputs": [],
   "source": [
    "def f1(x_arr, b, g):\n",
    "    #x_arr is an array where x_arr[0] = x and x_arr[1] = z\n",
    "\n",
    "    dxdt = x_arr[0] - (x_arr[0]**2)*np.exp(-b*x_arr[0]*x_arr[1])\n",
    "    dzdt = x_arr[1] - (x_arr[1]**2)*np.exp(-g*x_arr[0])\n",
    "\n",
    "    return np.array([dxdt, dzdt])\n",
    "\n",
    "\n",
    "def df(x):\n",
    "    h = 1e-06\n",
    "    J = MyJacobian(function_being_used, x, h)\n",
    "    if J.ndim > 2:\n",
    "        J = J.squeeze(axis=2)\n",
    "    return J\n",
    "\n",
    "def function_for_IVP(t, x):\n",
    "    b = 1\n",
    "    g = -1\n",
    "    return f1(x, b, g)"
   ]
  },
  {
   "cell_type": "markdown",
   "metadata": {},
   "source": [
    "## Eqlib points for g = -1, b = 1 is (1.4108, 0.2439)"
   ]
  },
  {
   "cell_type": "markdown",
   "metadata": {},
   "source": [
    "## Now to track the euqlib, \n",
    "need to set up a RHS"
   ]
  },
  {
   "cell_type": "markdown",
   "metadata": {},
   "source": [
    "## userf1 is without extra dims"
   ]
  },
  {
   "cell_type": "code",
   "execution_count": 3,
   "metadata": {},
   "outputs": [],
   "source": [
    "def userf(x_arr):\n",
    "    #g is included in x_arr\n",
    "    #x_arr is an array where x_arr[0] = x and x_arr[1] = z, x_arr[2] = g\n",
    "    b = 1\n",
    "    dxdt = x_arr[0] - (x_arr[0]**2)*np.exp(-b*x_arr[0]*x_arr[1])\n",
    "    dzdt = x_arr[1] - (x_arr[1]**2)*np.exp(-x_arr[2]*x_arr[0])\n",
    "\n",
    "    return np.array([dxdt, dzdt])\n",
    "\n",
    "def userdf(x):\n",
    "    h = 1e-06\n",
    "    J = MyJacobian(userf, x, h)\n",
    "    if J.ndim > 2:\n",
    "        J = J.squeeze(axis=2)\n",
    "    return J"
   ]
  },
  {
   "cell_type": "code",
   "execution_count": 4,
   "metadata": {},
   "outputs": [],
   "source": [
    "def userf1(t, x_arr, p):\n",
    "    '''2D ODE system for the AMOC\n",
    "    Input\n",
    "    t  : float\n",
    "        time value\n",
    "    x  : array (2, N)\n",
    "        state space values\n",
    "    p  : array (2,)\n",
    "        parameter values\n",
    "    \n",
    "    \n",
    "    Returns\n",
    "    xout: array, shape (2, N)\n",
    "           Array containing derivative at x\n",
    "           2nd dimension denotes derivatives for different points\n",
    "    '''\n",
    "    \n",
    "    if x_arr.ndim == 1:\n",
    "        x_arr = np.expand_dims(x_arr, axis=1)\n",
    "    \n",
    "    n = x_arr.shape\n",
    "    xout = np.empty(n)\n",
    "    xout[:] = np.nan \n",
    "\n",
    "    b = p[0,]\n",
    "    g = p[1,]\n",
    "    \n",
    "    \n",
    "    b = 1\n",
    "    xout[0,:] = x_arr[0, :] - (x_arr[0, :]**2)*np.exp(-b*x_arr[0, :]*x_arr[1, :])\n",
    "    xout[1,:] = x_arr[1, :] - (x_arr[1, :]**2)*np.exp(-g*x_arr[0, :])\n",
    "    return xout"
   ]
  },
  {
   "cell_type": "markdown",
   "metadata": {},
   "source": [
    "# Find Eq with b = 1, g = -1"
   ]
  },
  {
   "cell_type": "code",
   "execution_count": 5,
   "metadata": {},
   "outputs": [
    {
     "name": "stdout",
     "output_type": "stream",
     "text": [
      "[1.41080616 0.24394654]\n"
     ]
    },
    {
     "data": {
      "image/png": "[encoded data removed]",
      "text/plain": [
       "<Figure size 432x288 with 1 Axes>"
      ]
     },
     "metadata": {
      "needs_background": "light"
     },
     "output_type": "display_data"
    }
   ],
   "source": [
    "# Define parameters p\n",
    "b = 1\n",
    "g = -1\n",
    "p = np.array([b, g])\n",
    "\n",
    "#define variable to go into MyIVP\n",
    "x0 = np.array([1.5,0.2])\n",
    "tspan = [0,100]\n",
    "h = 0.01\n",
    "\n",
    "#call MyIVP\n",
    "[X,t,xeq1] = MyIVP(lambda t,x:userf1(t,x,p),x0,tspan,h)\n",
    "X = np.squeeze(X)\n",
    "xeq1 = np.squeeze(xeq1)\n",
    "print(xeq1)\n",
    "\n",
    "#Plot\n",
    "plt.plot(X[0,:],X[1,:])\n",
    "plt.xlabel(\"$x$\")\n",
    "plt.ylabel(\"$y$\")\n",
    "plt.title(\"Phase plane: F=0\")\n",
    "\n",
    "plt.show()"
   ]
  },
  {
   "cell_type": "markdown",
   "metadata": {},
   "source": [
    "# Now Track the Equilibria"
   ]
  },
  {
   "cell_type": "code",
   "execution_count": 25,
   "metadata": {},
   "outputs": [
    {
     "name": "stderr",
     "output_type": "stream",
     "text": [
      "C:\\Users\\aaron\\AppData\\Local\\Temp\\ipykernel_1036\\3225258700.py:2: VisibleDeprecationWarning: Creating an ndarray from ragged nested sequences (which is a list-or-tuple of lists-or-tuples-or ndarrays with different lengths or shapes) is deprecated. If you meant to do this, you must specify 'dtype=object' when creating the ndarray.\n",
      "  RHS = lambda y: userf1(0,y[0:2,:],np.array([b, y[2,:]]))\n"
     ]
    },
    {
     "name": "stdout",
     "output_type": "stream",
     "text": [
      "[0.50735311 0.16717552 0.84536689]\n"
     ]
    }
   ],
   "source": [
    "# Define RHS for tracking equilibria\n",
    "RHS = lambda y: userf1(0,y[0:2,:],np.array([b, y[2,:]]))\n",
    "\n",
    "h=1e-6\n",
    "df= lambda y: np.squeeze(MyJacobian(RHS,y,h),axis=2)\n",
    "\n",
    "# Define MyTrackCurve initial points, MAKE GUESS OF Y TANGENT\n",
    "y0 = np.append(xeq1,np.array([g]),axis=0);\n",
    "ytan0 = np.expand_dims(np.array([0,0,1]),axis=1); # guess in the direction of increasing F\n",
    "\n",
    "# Solve for the true initial tangent\n",
    "df0 = df(y0)\n",
    "zeros0 = np.zeros((2,))\n",
    "zeros1 = np.append(zeros0,np.array([1.]),axis=0)\n",
    "f0 = np.concatenate((df0,np.transpose(ytan0)),axis=0)\n",
    "z = np.linalg.lstsq(f0,zeros1,rcond=None)[0]\n",
    "mult = np.sign(np.matmul(np.transpose(z),ytan0))\n",
    "ytan = np.divide(z,linalg.norm(z))*mult\n",
    "\n",
    "print(ytan)\n",
    "\n",
    "ylist1 = MyTrackCurve(RHS,df,y0,ytan,nmax=5000,stepsize=0.005)\n",
    "\n",
    "\n",
    "#NOW OTHER DIRECTION\n",
    "# guess in direction for decreasing F\n",
    "ytan0 = np.expand_dims(np.array([0,0,-1]),axis=1)\n",
    "\n",
    "# Solve for the true initial tangent\n",
    "f0 = np.concatenate((df0,np.transpose(ytan0)),axis=0)\n",
    "z = np.linalg.lstsq(f0,zeros1,rcond=None)[0]\n",
    "mult = np.sign(np.matmul(np.transpose(z),ytan0))\n",
    "ytan = np.divide(z,linalg.norm(z))*mult\n",
    "\n",
    "ylist2 = MyTrackCurve(RHS,df,y0,ytan,nmax=2000,stepsize=0.005)"
   ]
  },
  {
   "cell_type": "code",
   "execution_count": 7,
   "metadata": {},
   "outputs": [
    {
     "data": {
      "image/png": "[encoded data removed]",
      "text/plain": [
       "<Figure size 432x288 with 1 Axes>"
      ]
     },
     "metadata": {
      "needs_background": "light"
     },
     "output_type": "display_data"
    }
   ],
   "source": [
    "ylist = np.concatenate((np.flip(ylist2,1),ylist1),axis=1);\n",
    "\n",
    "plt.plot(ylist[2,:],ylist[1,:])\n",
    "plt.xlabel(\"$g$\")\n",
    "plt.ylabel(\"$y$\")\n",
    "\n",
    "plt.show()"
   ]
  },
  {
   "cell_type": "code",
   "execution_count": 8,
   "metadata": {},
   "outputs": [
    {
     "data": {
      "image/png": "[encoded data removed]",
      "text/plain": [
       "<Figure size 1080x288 with 3 Axes>"
      ]
     },
     "metadata": {
      "needs_background": "light"
     },
     "output_type": "display_data"
    }
   ],
   "source": [
    "fig, axs = plt.subplots(1, 3, figsize=(15, 4))\n",
    "\n",
    "ax1 = axs[0]\n",
    "ax1.plot(ylist[2,:],ylist[1,:], label = 'g vs y')\n",
    "ax1.set_xlabel(\"$g$\")\n",
    "ax1.set_ylabel(\"$y$\")\n",
    "ax1.legend()\n",
    "ax1.set_title(\"\")\n",
    "\n",
    "ax2 = axs[1]\n",
    "ax2.plot(ylist[2,:], ylist[0,:], label = 'g vs x')\n",
    "ax2.set_xlabel(\"$g$\")\n",
    "ax2.set_ylabel(\"$x$\")\n",
    "ax2.legend()\n",
    "ax2.set_title(\"\")\n",
    "\n",
    "ax3 = axs[2]\n",
    "length = ylist.shape[1] # The number of points in ylist\n",
    "ax3.plot(ylist[0,:], ylist[1,:], label = 'Equilibrium point as g varies.')\n",
    "label = ' g = ' + str(ylist[2,0])\n",
    "ax3.plot(ylist[0,0], ylist[1,0], '.', color = 'r')\n",
    "ax3.text(ylist[0,0], ylist[1,0],label)\n",
    "\n",
    "label = ' g = ' + str(ylist[2,int(length/2)])\n",
    "ax3.plot(ylist[0,int(length/2)], ylist[1,int(length/2)], '.', color = 'r' )\n",
    "ax3.text(ylist[0,int(length/2)], ylist[1,int(length/2)],label)\n",
    "\n",
    "label = ' g = ' + str(ylist[2,length-1])\n",
    "ax3.plot(ylist[0,int(length-1)], ylist[1,int(length-1)], '.', color = 'r' )\n",
    "ax3.text(ylist[0,int(length-1)], ylist[1,int(length-1)],label)\n",
    "\n",
    "ax3.set_xlabel(\"$x$\")\n",
    "ax3.set_ylabel(\"$y$\")\n",
    "ax3.legend()\n",
    "ax3.set_title(\"\")\n",
    "\n",
    "#ax4 = axs[1, 1]\n",
    "\n",
    "plt.show()"
   ]
  },
  {
   "cell_type": "markdown",
   "metadata": {},
   "source": [
    "### Find stability at each point"
   ]
  },
  {
   "cell_type": "code",
   "execution_count": 9,
   "metadata": {},
   "outputs": [
    {
     "name": "stderr",
     "output_type": "stream",
     "text": [
      "C:\\Users\\aaron\\AppData\\Local\\Temp\\ipykernel_1036\\1301342527.py:4: RuntimeWarning: invalid value encountered in multiply\n",
      "  eig_val = np.empty((ylist.shape[1],ylist.shape[0]-1))*np.nan\n"
     ]
    }
   ],
   "source": [
    "#Finding the eigen values (eig_val), and stability (stab) at at value of g\n",
    "stab = np.empty((ylist.shape[1],1))*np.nan\n",
    "#note that the number of eigen values at each point of g will be ylist's (=[x,z,g])  width-1\n",
    "eig_val = np.empty((ylist.shape[1],ylist.shape[0]-1))*np.nan\n",
    "\n",
    "\n",
    "for i in np.arange(0,ylist.shape[1]):\n",
    "    p_i =np.array([b, ylist[2,i]])\n",
    "    J = MyJacobian(lambda x:userf1(0,x,p_i),ylist[0:2,i],h)\n",
    "    eig_val[i] = np.real(linalg.eig(J[:,:,0])[0])\n",
    "    max_eig = max(eig_val[i])\n",
    "    stab[i] = max_eig > 0\n",
    "    if (i>0 and stab[i] != stab[i-1] and stab[i-1] != 10):\n",
    "        #print(max_eig)\n",
    "        stab[i] = 10\n"
   ]
  },
  {
   "cell_type": "markdown",
   "metadata": {},
   "source": [
    "### Plot stabilities"
   ]
  },
  {
   "cell_type": "code",
   "execution_count": 10,
   "metadata": {},
   "outputs": [
    {
     "name": "stdout",
     "output_type": "stream",
     "text": [
      "7.391470266823781 0.2706263566684276 -0.17682762968161514\n"
     ]
    },
    {
     "data": {
      "image/png": "[encoded data removed]",
      "text/plain": [
       "<Figure size 432x288 with 1 Axes>"
      ]
     },
     "metadata": {
      "needs_background": "light"
     },
     "output_type": "display_data"
    }
   ],
   "source": [
    "for i in np.arange(0,ylist.shape[1]):\n",
    "    if stab[i] == False:\n",
    "        plt.plot(ylist[2,i],ylist[1,i],'g.',markersize=2,label = 'stable eq')\n",
    "    elif stab[i] == True:\n",
    "        plt.plot(ylist[2,i],ylist[1,i],'r.',markersize=2,label = 'unstable eq')\n",
    "    elif stab[i] == 10:\n",
    "        plt.plot(ylist[2,i],ylist[1,i],marker='o',color='b',markersize=6,label='SN')\n",
    "        print(ylist[0,i],ylist[1,i], ylist[2,i])\n",
    "    else:\n",
    "        print('Error - undefined stability type')"
   ]
  },
  {
   "cell_type": "markdown",
   "metadata": {},
   "source": [
    "# 2 Parameter Track (in b and g)\n",
    "The change in stability found above was likely a hopf Bif"
   ]
  },
  {
   "cell_type": "code",
   "execution_count": 11,
   "metadata": {},
   "outputs": [],
   "source": [
    "#Define functions\n",
    "def df_2param(y):\n",
    "    J = MyJacobian(lambda x:userf1(0,x,np.array([y[2],y[3]])),y[0:2],h)\n",
    "    J = np.squeeze(J,axis=2)\n",
    "    return J\n",
    "\n",
    "######### Fold Bif ############\n",
    "\n",
    "RHS_fold = lambda y: np.append(userf1(0,y[0:2,:],np.array([y[2,:],y[3,:]])),\n",
    "                               np.expand_dims(np.array([linalg.det(df_2param(y))]),axis=1),axis=0)\n",
    "\n",
    "df_fold= lambda y: np.squeeze(MyJacobian(RHS_fold,y,h),axis=2)\n",
    "\n",
    "######### Hopf Bif ############\n",
    "\n",
    "RHS_hopf = lambda y: np.append(userf1(0,y[0:2,:],np.array([y[2,:],y[3,:]])),\n",
    "                               np.expand_dims(np.array([np.trace(df_2param(y))]),axis=1),axis=0)\n",
    "\n",
    "df_hopf= lambda y: np.squeeze(MyJacobian(RHS_hopf,y,h),axis=2)"
   ]
  },
  {
   "cell_type": "markdown",
   "metadata": {},
   "source": [
    "### Track Curve"
   ]
  },
  {
   "cell_type": "code",
   "execution_count": 26,
   "metadata": {},
   "outputs": [
    {
     "name": "stdout",
     "output_type": "stream",
     "text": [
      "[ 7.39147027  0.27062636 -0.17682763  1.        ]\n",
      "[-1.74523896e-02  3.19111500e-04  0.00000000e+00  9.99847645e-01]\n"
     ]
    },
    {
     "ename": "LinAlgError",
     "evalue": "Singular matrix",
     "output_type": "error",
     "traceback": [
      "\u001b[1;31m---------------------------------------------------------------------------\u001b[0m",
      "\u001b[1;31mLinAlgError\u001b[0m                               Traceback (most recent call last)",
      "\u001b[1;32mc:\\Users\\aaron\\OneDrive\\Documents\\AAUni\\Dynamical systems and chaos\\Case Study\\Testing_From_Lec_Code.ipynb Cell 21\u001b[0m line \u001b[0;36m<cell line: 23>\u001b[1;34m()\u001b[0m\n\u001b[0;32m     <a href='vscode-notebook-cell:/c%3A/Users/aaron/OneDrive/Documents/AAUni/Dynamical%20systems%20and%20chaos/Case%20Study/Testing_From_Lec_Code.ipynb#X36sZmlsZQ%3D%3D?line=19'>20</a>\u001b[0m ytan \u001b[39m=\u001b[39m np\u001b[39m.\u001b[39mdivide(z,linalg\u001b[39m.\u001b[39mnorm(z))\u001b[39m*\u001b[39mmult\n\u001b[0;32m     <a href='vscode-notebook-cell:/c%3A/Users/aaron/OneDrive/Documents/AAUni/Dynamical%20systems%20and%20chaos/Case%20Study/Testing_From_Lec_Code.ipynb#X36sZmlsZQ%3D%3D?line=20'>21</a>\u001b[0m \u001b[39mprint\u001b[39m(ytan)\n\u001b[1;32m---> <a href='vscode-notebook-cell:/c%3A/Users/aaron/OneDrive/Documents/AAUni/Dynamical%20systems%20and%20chaos/Case%20Study/Testing_From_Lec_Code.ipynb#X36sZmlsZQ%3D%3D?line=22'>23</a>\u001b[0m yused1 \u001b[39m=\u001b[39m MyTrackCurve(RHS_used,df_used,y0,ytan,stepsize\u001b[39m=\u001b[39;49m\u001b[39m0.01\u001b[39;49m,nmax\u001b[39m=\u001b[39;49m\u001b[39m200\u001b[39;49m)\n\u001b[0;32m     <a href='vscode-notebook-cell:/c%3A/Users/aaron/OneDrive/Documents/AAUni/Dynamical%20systems%20and%20chaos/Case%20Study/Testing_From_Lec_Code.ipynb#X36sZmlsZQ%3D%3D?line=24'>25</a>\u001b[0m \u001b[39m# guess in direction for decreasing params\u001b[39;00m\n\u001b[0;32m     <a href='vscode-notebook-cell:/c%3A/Users/aaron/OneDrive/Documents/AAUni/Dynamical%20systems%20and%20chaos/Case%20Study/Testing_From_Lec_Code.ipynb#X36sZmlsZQ%3D%3D?line=25'>26</a>\u001b[0m ytan0 \u001b[39m=\u001b[39m np\u001b[39m.\u001b[39mexpand_dims(np\u001b[39m.\u001b[39marray([\u001b[39m0\u001b[39m,\u001b[39m0\u001b[39m,\u001b[39m-\u001b[39m\u001b[39m1\u001b[39m,\u001b[39m0\u001b[39m]),axis\u001b[39m=\u001b[39m\u001b[39m1\u001b[39m)\n",
      "File \u001b[1;32mc:\\Users\\aaron\\OneDrive\\Documents\\AAUni\\Dynamical systems and chaos\\Case Study\\custom_functions.py:228\u001b[0m, in \u001b[0;36mMyTrackCurve\u001b[1;34m(userf, userdf, y0, ytan, **kwargs)\u001b[0m\n\u001b[0;32m    225\u001b[0m     dfout \u001b[39m=\u001b[39m np\u001b[39m.\u001b[39mconcatenate((userdf(y),J),axis\u001b[39m=\u001b[39m\u001b[39m0\u001b[39m)\n\u001b[0;32m    226\u001b[0m     \u001b[39mreturn\u001b[39;00m dfout\n\u001b[1;32m--> 228\u001b[0m yk,converged,J \u001b[39m=\u001b[39m MySolve(F,yj,df,tol,maxit)\n\u001b[0;32m    229\u001b[0m \u001b[39mwhile\u001b[39;00m converged \u001b[39m==\u001b[39m \u001b[39m0\u001b[39m:\n\u001b[0;32m    230\u001b[0m     s \u001b[39m=\u001b[39m np\u001b[39m.\u001b[39mmax(s\u001b[39m/\u001b[39m\u001b[39m2\u001b[39m,\u001b[39m1e-8\u001b[39m)\n",
      "File \u001b[1;32mc:\\Users\\aaron\\OneDrive\\Documents\\AAUni\\Dynamical systems and chaos\\Case Study\\custom_functions.py:92\u001b[0m, in \u001b[0;36mMySolve\u001b[1;34m(f, x0, df, tol, maxit)\u001b[0m\n\u001b[0;32m     89\u001b[0m     x0 \u001b[39m=\u001b[39m np\u001b[39m.\u001b[39mexpand_dims(x0, axis\u001b[39m=\u001b[39m\u001b[39m1\u001b[39m)\n\u001b[0;32m     91\u001b[0m J \u001b[39m=\u001b[39m df(x0)\n\u001b[1;32m---> 92\u001b[0m x1 \u001b[39m=\u001b[39m x0 \u001b[39m-\u001b[39m np\u001b[39m.\u001b[39mmatmul(np\u001b[39m.\u001b[39;49mlinalg\u001b[39m.\u001b[39;49minv(J),f(x0))\n\u001b[0;32m     94\u001b[0m ek1 \u001b[39m=\u001b[39m linalg\u001b[39m.\u001b[39mnorm(x1 \u001b[39m-\u001b[39m x0)\n\u001b[0;32m     95\u001b[0m rk \u001b[39m=\u001b[39m linalg\u001b[39m.\u001b[39mnorm(f(x0))\n",
      "File \u001b[1;32m<__array_function__ internals>:180\u001b[0m, in \u001b[0;36minv\u001b[1;34m(*args, **kwargs)\u001b[0m\n",
      "File \u001b[1;32mc:\\Users\\aaron\\AppData\\Local\\Programs\\Python\\Python39\\lib\\site-packages\\numpy\\linalg\\linalg.py:552\u001b[0m, in \u001b[0;36minv\u001b[1;34m(a)\u001b[0m\n\u001b[0;32m    550\u001b[0m signature \u001b[39m=\u001b[39m \u001b[39m'\u001b[39m\u001b[39mD->D\u001b[39m\u001b[39m'\u001b[39m \u001b[39mif\u001b[39;00m isComplexType(t) \u001b[39melse\u001b[39;00m \u001b[39m'\u001b[39m\u001b[39md->d\u001b[39m\u001b[39m'\u001b[39m\n\u001b[0;32m    551\u001b[0m extobj \u001b[39m=\u001b[39m get_linalg_error_extobj(_raise_linalgerror_singular)\n\u001b[1;32m--> 552\u001b[0m ainv \u001b[39m=\u001b[39m _umath_linalg\u001b[39m.\u001b[39;49minv(a, signature\u001b[39m=\u001b[39;49msignature, extobj\u001b[39m=\u001b[39;49mextobj)\n\u001b[0;32m    553\u001b[0m \u001b[39mreturn\u001b[39;00m wrap(ainv\u001b[39m.\u001b[39mastype(result_t, copy\u001b[39m=\u001b[39m\u001b[39mFalse\u001b[39;00m))\n",
      "File \u001b[1;32mc:\\Users\\aaron\\AppData\\Local\\Programs\\Python\\Python39\\lib\\site-packages\\numpy\\linalg\\linalg.py:89\u001b[0m, in \u001b[0;36m_raise_linalgerror_singular\u001b[1;34m(err, flag)\u001b[0m\n\u001b[0;32m     88\u001b[0m \u001b[39mdef\u001b[39;00m \u001b[39m_raise_linalgerror_singular\u001b[39m(err, flag):\n\u001b[1;32m---> 89\u001b[0m     \u001b[39mraise\u001b[39;00m LinAlgError(\u001b[39m\"\u001b[39m\u001b[39mSingular matrix\u001b[39m\u001b[39m\"\u001b[39m)\n",
      "\u001b[1;31mLinAlgError\u001b[0m: Singular matrix"
     ]
    }
   ],
   "source": [
    "#RHS_used and df_used is either RHS_fold or RHS_hopf\n",
    "RHS_used = RHS_hopf\n",
    "df_used = df_hopf\n",
    "\n",
    "\n",
    "# Define MyTrackCurve initial points\n",
    "f_inds = np.where(stab == 10)[0]\n",
    "y0 = np.array([ylist[0,f_inds[0]], ylist[1,f_inds[0]], ylist[2,f_inds[0]], b])\n",
    "print(y0)\n",
    "\n",
    "ytan0 = np.expand_dims(np.array([0,0,0,1]),axis=1) # guess i the direction of increasing params\n",
    "\n",
    "# Solve for the true initial tangent\n",
    "df0 = np.squeeze(df_used(y0))\n",
    "zeros0 = np.zeros((3,))\n",
    "zeros1 = np.append(zeros0,np.array([1.]),axis=0)\n",
    "f0 = np.concatenate((df0,np.transpose(ytan0)),axis=0)\n",
    "z = np.linalg.lstsq(f0,zeros1,rcond=None)[0]\n",
    "mult = np.sign(np.matmul(np.transpose(z),ytan0))\n",
    "ytan = np.divide(z,linalg.norm(z))*mult\n",
    "print(ytan)\n",
    "\n",
    "yused1 = MyTrackCurve(RHS_used,df_used,y0,ytan,stepsize=0.01,nmax=200)\n",
    "\n",
    "# guess in direction for decreasing params\n",
    "ytan0 = np.expand_dims(np.array([0,0,-1,0]),axis=1)\n",
    "\n",
    "# Solve for the true initial tangent\n",
    "f0 = np.concatenate((df0,np.transpose(ytan0)),axis=0)\n",
    "z = np.linalg.lstsq(f0,zeros1,rcond=None)[0]\n",
    "mult = np.sign(np.matmul(np.transpose(z),ytan0))\n",
    "ytan = np.divide(z,linalg.norm(z))*mult\n",
    "\n",
    "yused2 = MyTrackCurve(RHS_used,df_used,y0,ytan,stepsize=0.01,nmax=200)"
   ]
  },
  {
   "cell_type": "code",
   "execution_count": 23,
   "metadata": {},
   "outputs": [
    {
     "name": "stdout",
     "output_type": "stream",
     "text": [
      "[[ 7.39147027  7.3890561   7.3890561   7.3890561   7.38905609  7.3890561\n",
      "   7.38905609  7.3890561   7.3890561   7.38905611  7.38905609  7.38905611\n",
      "   7.3890561   7.3890561   7.3890561   7.38905609  7.3890561   7.3890561\n",
      "   7.3890561   7.38905609  7.38905609  7.38905609  7.3890561   7.3890561\n",
      "   7.3890561   7.38905609  7.3890561   7.3890561   7.3890561   7.38905609\n",
      "   7.38905609  7.3890561   7.3890561   7.38905609  7.3890561   7.38905609\n",
      "   7.3890561   7.38905609  7.3890561   7.3890561   7.38905609  7.3890561\n",
      "   7.3890561   7.38905609  7.3890561   7.3890561   7.3890561   7.38905611\n",
      "   7.38905609  7.3890561   7.3890561   7.38905609  7.3890561   7.38905609\n",
      "   7.3890561   7.38905611  7.3890561   7.38905609  7.3890561   7.3890561\n",
      "   7.38905609  7.3890561   7.3890561   7.3890561   7.3890561   7.38905611\n",
      "   7.3890561   7.3890561   7.3890561   7.3890561   7.3890561   7.3890561\n",
      "   7.3890561   7.38905609  7.3890561   7.38905611  7.38905609  7.3890561\n",
      "   7.38905611  7.3890561   7.38905609  7.38905609  7.38905609  7.3890561\n",
      "   7.3890561   7.3890561   7.38905609  7.38905611  7.3890561   7.3890561\n",
      "   7.3890561   7.3890561   7.3890561   7.3890561   7.3890561   7.38905609\n",
      "   7.3890561   7.3890561   7.38905609  7.3890561   7.38905609  7.38905609\n",
      "   7.3890561   7.38905611  7.3890561   7.3890561   7.38905609  7.3890561\n",
      "   7.38905609  7.38905609  7.3890561   7.38905609  7.38905609  7.3890561\n",
      "   7.3890561   7.38905611  7.3890561   7.3890561   7.3890561   7.38905609\n",
      "   7.3890561   7.38905609  7.38905611  7.38905609  7.3890561   7.3890561\n",
      "   7.3890561   7.3890561   7.38905609  7.3890561   7.3890561   7.3890561\n",
      "   7.3890561   7.3890561   7.3890561   7.38905609  7.3890561   7.3890561\n",
      "   7.3890561   7.38905609  7.38905609  7.3890561   7.3890561   7.3890561\n",
      "   7.3890561   7.3890561   7.3890561   7.38905609  7.38905609  7.38905609\n",
      "   7.3890561   7.38905611  7.38905611  7.3890561   7.3890561   7.38905609\n",
      "   7.3890561   7.3890561   7.38905611  7.3890561   7.38905609  7.38905609\n",
      "   7.3890561   7.38905609  7.3890561   7.3890561   7.3890561   7.3890561\n",
      "   7.38905611  7.38905611  7.3890561   7.3890561   7.3890561   7.38905609\n",
      "   7.3890561   7.38905609  7.3890561   7.3890561   7.38905609  7.38905609\n",
      "   7.3890561   7.3890561   7.38905609  7.38905609  7.3890561   7.3890561\n",
      "   7.3890561   7.3890561   7.38905609  7.3890561   7.3890561   7.3890561\n",
      "   7.3890561   7.38905609  7.3890561   7.38905609  7.3890561   7.3890561\n",
      "   7.3890561   7.3890561   7.38905611]\n",
      " [ 0.27062636  0.27067057  0.27067057  0.27067057  0.27067057  0.27067057\n",
      "   0.27067057  0.27067057  0.27067057  0.27067057  0.27067057  0.27067057\n",
      "   0.27067057  0.27067057  0.27067057  0.27067057  0.27067057  0.27067057\n",
      "   0.27067057  0.27067057  0.27067057  0.27067057  0.27067057  0.27067057\n",
      "   0.27067057  0.27067057  0.27067057  0.27067057  0.27067057  0.27067057\n",
      "   0.27067057  0.27067057  0.27067057  0.27067057  0.27067057  0.27067057\n",
      "   0.27067057  0.27067057  0.27067057  0.27067057  0.27067057  0.27067057\n",
      "   0.27067057  0.27067057  0.27067057  0.27067057  0.27067057  0.27067057\n",
      "   0.27067057  0.27067057  0.27067057  0.27067057  0.27067057  0.27067057\n",
      "   0.27067057  0.27067057  0.27067057  0.27067057  0.27067057  0.27067057\n",
      "   0.27067057  0.27067057  0.27067057  0.27067057  0.27067057  0.27067057\n",
      "   0.27067057  0.27067057  0.27067057  0.27067057  0.27067057  0.27067057\n",
      "   0.27067057  0.27067057  0.27067057  0.27067057  0.27067057  0.27067057\n",
      "   0.27067057  0.27067057  0.27067057  0.27067057  0.27067057  0.27067057\n",
      "   0.27067057  0.27067057  0.27067057  0.27067057  0.27067057  0.27067057\n",
      "   0.27067057  0.27067057  0.27067057  0.27067057  0.27067057  0.27067057\n",
      "   0.27067057  0.27067057  0.27067057  0.27067057  0.27067057  0.27067057\n",
      "   0.27067057  0.27067057  0.27067057  0.27067057  0.27067057  0.27067057\n",
      "   0.27067057  0.27067057  0.27067057  0.27067057  0.27067057  0.27067057\n",
      "   0.27067057  0.27067057  0.27067057  0.27067057  0.27067057  0.27067057\n",
      "   0.27067057  0.27067057  0.27067057  0.27067057  0.27067057  0.27067057\n",
      "   0.27067057  0.27067057  0.27067057  0.27067057  0.27067057  0.27067057\n",
      "   0.27067057  0.27067057  0.27067057  0.27067057  0.27067057  0.27067057\n",
      "   0.27067057  0.27067057  0.27067057  0.27067057  0.27067057  0.27067057\n",
      "   0.27067057  0.27067057  0.27067057  0.27067057  0.27067057  0.27067057\n",
      "   0.27067057  0.27067057  0.27067057  0.27067057  0.27067057  0.27067057\n",
      "   0.27067057  0.27067057  0.27067057  0.27067057  0.27067057  0.27067057\n",
      "   0.27067057  0.27067057  0.27067057  0.27067057  0.27067057  0.27067057\n",
      "   0.27067057  0.27067057  0.27067057  0.27067057  0.27067057  0.27067057\n",
      "   0.27067057  0.27067057  0.27067057  0.27067057  0.27067057  0.27067057\n",
      "   0.27067057  0.27067057  0.27067057  0.27067057  0.27067057  0.27067057\n",
      "   0.27067057  0.27067057  0.27067057  0.27067057  0.27067057  0.27067057\n",
      "   0.27067057  0.27067057  0.27067057  0.27067057  0.27067057  0.27067057\n",
      "   0.27067057  0.27067057  0.27067057]\n",
      " [ 1.          1.01        1.02        1.03        1.04        1.05\n",
      "   1.06        1.07        1.08        1.09        1.1         1.11\n",
      "   1.12        1.13        1.14        1.15        1.16        1.17\n",
      "   1.18        1.19        1.2         1.21        1.22        1.23\n",
      "   1.24        1.25        1.26        1.27        1.28        1.29\n",
      "   1.3         1.31        1.32        1.33        1.34        1.35\n",
      "   1.36        1.37        1.38        1.39        1.4         1.41\n",
      "   1.42        1.43        1.44        1.45        1.46        1.47\n",
      "   1.48        1.49        1.5         1.51        1.52        1.53\n",
      "   1.54        1.55        1.56        1.57        1.58        1.59\n",
      "   1.6         1.61        1.62        1.63        1.64        1.65\n",
      "   1.66        1.67        1.68        1.69        1.7         1.71\n",
      "   1.72        1.73        1.74        1.75        1.76        1.77\n",
      "   1.78        1.79        1.8         1.81        1.82        1.83\n",
      "   1.84        1.85        1.86        1.87        1.88        1.89\n",
      "   1.9         1.91        1.92        1.93        1.94        1.95\n",
      "   1.96        1.97        1.98        1.99        2.          2.01\n",
      "   2.02        2.03        2.04        2.05        2.06        2.07\n",
      "   2.08        2.09        2.1         2.11        2.12        2.13\n",
      "   2.14        2.15        2.16        2.17        2.18        2.19\n",
      "   2.2         2.21        2.22        2.23        2.24        2.25\n",
      "   2.26        2.27        2.28        2.29        2.3         2.31\n",
      "   2.32        2.33        2.34        2.35        2.36        2.37\n",
      "   2.38        2.39        2.4         2.41        2.42        2.43\n",
      "   2.44        2.45        2.46        2.47        2.48        2.49\n",
      "   2.5         2.51        2.52        2.53        2.54        2.55\n",
      "   2.56        2.57        2.58        2.59        2.6         2.61\n",
      "   2.62        2.63        2.64        2.65        2.66        2.67\n",
      "   2.68        2.69        2.7         2.71        2.72        2.73\n",
      "   2.74        2.75        2.76        2.77        2.78        2.79\n",
      "   2.8         2.81        2.82        2.83        2.84        2.85\n",
      "   2.86        2.87        2.88        2.89        2.9         2.91\n",
      "   2.92        2.93        2.94        2.95        2.96        2.97\n",
      "   2.98        2.99        3.        ]\n",
      " [-0.17682763 -0.1768633  -0.1768633  -0.1768633  -0.1768633  -0.1768633\n",
      "  -0.1768633  -0.1768633  -0.1768633  -0.1768633  -0.1768633  -0.1768633\n",
      "  -0.1768633  -0.1768633  -0.1768633  -0.1768633  -0.1768633  -0.1768633\n",
      "  -0.1768633  -0.1768633  -0.1768633  -0.1768633  -0.1768633  -0.1768633\n",
      "  -0.1768633  -0.1768633  -0.1768633  -0.1768633  -0.1768633  -0.1768633\n",
      "  -0.1768633  -0.1768633  -0.1768633  -0.1768633  -0.1768633  -0.1768633\n",
      "  -0.1768633  -0.1768633  -0.1768633  -0.1768633  -0.1768633  -0.1768633\n",
      "  -0.1768633  -0.1768633  -0.1768633  -0.1768633  -0.1768633  -0.1768633\n",
      "  -0.1768633  -0.1768633  -0.1768633  -0.1768633  -0.1768633  -0.1768633\n",
      "  -0.1768633  -0.1768633  -0.1768633  -0.1768633  -0.1768633  -0.1768633\n",
      "  -0.1768633  -0.1768633  -0.1768633  -0.1768633  -0.1768633  -0.1768633\n",
      "  -0.1768633  -0.1768633  -0.1768633  -0.1768633  -0.1768633  -0.1768633\n",
      "  -0.1768633  -0.1768633  -0.1768633  -0.1768633  -0.1768633  -0.1768633\n",
      "  -0.1768633  -0.1768633  -0.1768633  -0.1768633  -0.1768633  -0.1768633\n",
      "  -0.1768633  -0.1768633  -0.1768633  -0.1768633  -0.1768633  -0.1768633\n",
      "  -0.1768633  -0.1768633  -0.1768633  -0.1768633  -0.1768633  -0.1768633\n",
      "  -0.1768633  -0.1768633  -0.1768633  -0.1768633  -0.1768633  -0.1768633\n",
      "  -0.1768633  -0.1768633  -0.1768633  -0.1768633  -0.1768633  -0.1768633\n",
      "  -0.1768633  -0.1768633  -0.1768633  -0.1768633  -0.1768633  -0.1768633\n",
      "  -0.1768633  -0.1768633  -0.1768633  -0.1768633  -0.1768633  -0.1768633\n",
      "  -0.1768633  -0.1768633  -0.1768633  -0.1768633  -0.1768633  -0.1768633\n",
      "  -0.1768633  -0.1768633  -0.1768633  -0.1768633  -0.1768633  -0.1768633\n",
      "  -0.1768633  -0.1768633  -0.1768633  -0.1768633  -0.1768633  -0.1768633\n",
      "  -0.1768633  -0.1768633  -0.1768633  -0.1768633  -0.1768633  -0.1768633\n",
      "  -0.1768633  -0.1768633  -0.1768633  -0.1768633  -0.1768633  -0.1768633\n",
      "  -0.1768633  -0.1768633  -0.1768633  -0.1768633  -0.1768633  -0.1768633\n",
      "  -0.1768633  -0.1768633  -0.1768633  -0.1768633  -0.1768633  -0.1768633\n",
      "  -0.1768633  -0.1768633  -0.1768633  -0.1768633  -0.1768633  -0.1768633\n",
      "  -0.1768633  -0.1768633  -0.1768633  -0.1768633  -0.1768633  -0.1768633\n",
      "  -0.1768633  -0.1768633  -0.1768633  -0.1768633  -0.1768633  -0.1768633\n",
      "  -0.1768633  -0.1768633  -0.1768633  -0.1768633  -0.1768633  -0.1768633\n",
      "  -0.1768633  -0.1768633  -0.1768633  -0.1768633  -0.1768633  -0.1768633\n",
      "  -0.1768633  -0.1768633  -0.1768633  -0.1768633  -0.1768633  -0.1768633\n",
      "  -0.1768633  -0.1768633  -0.1768633 ]]\n"
     ]
    },
    {
     "data": {
      "image/png": "[encoded data removed]",
      "text/plain": [
       "<Figure size 1080x288 with 3 Axes>"
      ]
     },
     "metadata": {
      "needs_background": "light"
     },
     "output_type": "display_data"
    }
   ],
   "source": [
    "yused = np.concatenate((np.flip(yused2,1),yused1),axis=1);\n",
    "print(yused1)\n",
    "fig, axs = plt.subplots(1, 3, figsize=(15, 4))\n",
    "\n",
    "ax1 = axs[0]\n",
    "ax1.plot(yused1[2,:],yused1[3,:], label = 'b vs g')\n",
    "#ax1.plot(yused1[:,2],yused1[:,3], label = 'b vs g')\n",
    "ax1.set_xlabel(\"$b$\")\n",
    "ax1.set_ylabel(\"$g$\")\n",
    "ax1.set_xlim(0.99,1.1)\n",
    "ax1.legend()\n",
    "ax1.set_title(\"\")\n",
    "\n",
    "#plt.axis([0.7,1.3,0,100])\n",
    "\n",
    "plt.show()"
   ]
  },
  {
   "cell_type": "code",
   "execution_count": null,
   "metadata": {},
   "outputs": [],
   "source": []
  }
 ],
 "metadata": {
  "kernelspec": {
   "display_name": "Python 3",
   "language": "python",
   "name": "python3"
  },
  "language_info": {
   "codemirror_mode": {
    "name": "ipython",
    "version": 3
   },
   "file_extension": ".py",
   "mimetype": "text/x-python",
   "name": "python",
   "nbconvert_exporter": "python",
   "pygments_lexer": "ipython3",
   "version": "3.9.1"
  },
  "orig_nbformat": 4
 },
 "nbformat": 4,
 "nbformat_minor": 2
}
