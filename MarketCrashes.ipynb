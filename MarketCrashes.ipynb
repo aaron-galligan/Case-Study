{
 "cells": [
  {
   "cell_type": "markdown",
   "metadata": {},
   "source": [
    "# Market Crashes\n"
   ]
  },
  {
   "cell_type": "code",
   "execution_count": 1,
   "metadata": {},
   "outputs": [],
   "source": [
    "#from Jacobian import *\n",
    "#from MySolve import *\n",
    "#from MyIVP import *\n",
    "from custom_functions import *\n",
    "import numpy as np\n",
    "import matplotlib.pyplot as plt"
   ]
  },
  {
   "cell_type": "markdown",
   "metadata": {},
   "source": [
    "### Functions\n",
    "\n",
    "$\\frac{dx}{dt} = x - x^2 e^{-bxz}$\n",
    "\n",
    "$\\frac{dz}{dt} = z - z^2 e^{-gx}$\n",
    "\n",
    "\n",
    "For \n",
    "$$\\frac{dx}{dt} = 0$$\n",
    "$$\\frac{dz}{dt} = 0$$\n",
    "\n",
    "Some trivial fixed points are $(0,0)$, $(0,1)$, and $(1,0)$.\n",
    "\n",
    "To find others we solve\n",
    "\n",
    "$x = e^{bxz}$\n",
    "\n",
    "$z = e^{gx}$\n",
    "\n"
   ]
  },
  {
   "cell_type": "code",
   "execution_count": 2,
   "metadata": {},
   "outputs": [],
   "source": [
    "\n",
    "def f1(x_arr, b, g):\n",
    "    #x_arr is an array where x_arr[0] = x and x_arr[1] = z\n",
    "\n",
    "    dxdt = x_arr[0] - (x_arr[0]**2)*np.exp(-b*x_arr[0]*x_arr[1])\n",
    "    dzdt = x_arr[1] - (x_arr[1]**2)*np.exp(-g*x_arr[0])\n",
    "\n",
    "    return np.array([dxdt, dzdt])\n",
    "'''\n",
    "def f1wt(t, x):\n",
    "    b = 1\n",
    "    g = 1\n",
    "\n",
    "    dxdt = x[0] - (x[0]**2)*np.exp(-b*x[0]*x[1])\n",
    "    dzdt = x[1] - (x[1]**2)*np.exp(-g*x[0])\n",
    "\n",
    "    return np.array([dxdt, dzdt])\n",
    "'''\n",
    "\n",
    "def eq_points(x_arr, b, g):\n",
    "    '''\n",
    "    Note this will not work in MySolve as xl & zl don't equal 0 \n",
    "    You would have to create another def where zero1 = np.exp(b*x_arr[0]*x_arr[1]) - x_arr[0] etc.\n",
    "\n",
    "    x_arr is an array where x_arr[0] = x and x_arr[1] = z.\n",
    "    xl and zl are the equilibrium points.\n",
    "    '''\n",
    "\n",
    "    xl = np.exp(b*x_arr[0]*x_arr[1])\n",
    "    zl = np.exp(g*x_arr[0])\n",
    "\n",
    "    return np.array([xl, zl])\n",
    "\n"
   ]
  },
  {
   "cell_type": "code",
   "execution_count": 3,
   "metadata": {},
   "outputs": [
    {
     "name": "stdout",
     "output_type": "stream",
     "text": [
      "[[0.]\n",
      " [1.]] True\n"
     ]
    }
   ],
   "source": [
    "def function_being_used(x0):\n",
    "    b = 1\n",
    "    g = -1\n",
    "    return f1(x0, b, g)\n",
    "\n",
    "\n",
    "def df(x):\n",
    "    h = 1e-06\n",
    "    J = MyJacobian(function_being_used, x, h)\n",
    "    J = np.squeeze(J, axis = 2)\n",
    "    return J\n",
    "\n",
    "x0 = np.array([0, 1.])\n",
    "tol = 1e-8\n",
    "maxit = 100\n",
    "\n",
    "x , converged , jacobian = MySolve(function_being_used, x0, df, tol, maxit)\n",
    "print(x, converged)\n"
   ]
  },
  {
   "cell_type": "code",
   "execution_count": 4,
   "metadata": {},
   "outputs": [
    {
     "name": "stdout",
     "output_type": "stream",
     "text": [
      "[[-10.   -10.  ]\n",
      " [ -9.75 -10.  ]\n",
      " [ -9.5  -10.  ]\n",
      " ...\n",
      " [  9.5   10.  ]\n",
      " [  9.75  10.  ]\n",
      " [ 10.    10.  ]]\n"
     ]
    }
   ],
   "source": [
    "############# Making Grid of points ################\n",
    "# to make a grid around (0,0), choose max x value, or for spesific use:\n",
    "#x=np.linspace(-2, 2, 5)\n",
    "#y=np.linspace(-2, 2, 5)\n",
    "\n",
    "max_x_val = 10\n",
    "increment = 0.25\n",
    "x=np.linspace(-max_x_val, max_x_val, int(2*max_x_val/increment + 1))\n",
    "y=np.linspace(-max_x_val, max_x_val, int(2*max_x_val/increment + 1))\n",
    "\n",
    "xx,yy=np.meshgrid(x,y)\n",
    "coords=np.array((xx.ravel(), yy.ravel())).T\n",
    "\n",
    "print(coords)"
   ]
  },
  {
   "cell_type": "code",
   "execution_count": 5,
   "metadata": {},
   "outputs": [
    {
     "name": "stdout",
     "output_type": "stream",
     "text": [
      "[]\n"
     ]
    },
    {
     "name": "stderr",
     "output_type": "stream",
     "text": [
      "C:\\Users\\aaron\\AppData\\Local\\Temp\\ipykernel_38732\\4005777321.py:5: RuntimeWarning: overflow encountered in exp\n",
      "  dzdt = x_arr[1] - (x_arr[1]**2)*np.exp(-g*x_arr[0])\n",
      "c:\\Users\\aaron\\OneDrive\\Documents\\AAUni\\Dynamical systems and chaos\\Case Study\\custom_functions.py:55: RuntimeWarning: invalid value encountered in subtract\n",
      "  dfi = (f(xi1) - f(xi2)) / (2 * h)\n",
      "c:\\Users\\aaron\\AppData\\Local\\Programs\\Python\\Python39\\lib\\site-packages\\numpy\\linalg\\linalg.py:2154: RuntimeWarning: invalid value encountered in det\n",
      "  r = _umath_linalg.det(a, signature=signature)\n"
     ]
    },
    {
     "name": "stdout",
     "output_type": "stream",
     "text": [
      "Error: For point  [[ 732.72980889]\n",
      " [2716.46175271]]  matrix J is singular.\n",
      "Error: For point  [[ 1329.27158763]\n",
      " [11721.42016089]]  matrix J is singular.\n"
     ]
    },
    {
     "name": "stderr",
     "output_type": "stream",
     "text": [
      "C:\\Users\\aaron\\AppData\\Local\\Temp\\ipykernel_38732\\4005777321.py:5: RuntimeWarning: overflow encountered in multiply\n",
      "  dzdt = x_arr[1] - (x_arr[1]**2)*np.exp(-g*x_arr[0])\n"
     ]
    },
    {
     "name": "stdout",
     "output_type": "stream",
     "text": [
      "Error: For point  [[ 706.46450006]\n",
      " [3644.43211331]]  matrix J is singular.\n",
      "Error: For point  [[ 924.58317601]\n",
      " [2120.5915585 ]]  matrix J is singular.\n"
     ]
    },
    {
     "name": "stderr",
     "output_type": "stream",
     "text": [
      "C:\\Users\\aaron\\AppData\\Local\\Temp\\ipykernel_38732\\4005777321.py:4: RuntimeWarning: overflow encountered in exp\n",
      "  dxdt = x_arr[0] - (x_arr[0]**2)*np.exp(-b*x_arr[0]*x_arr[1])\n"
     ]
    },
    {
     "name": "stdout",
     "output_type": "stream",
     "text": [
      "Error: For point  [[ 34.61969331]\n",
      " [-57.79601691]]  matrix J is singular.\n",
      "Error: For point  [[ 369.82377955]\n",
      " [-230.20408103]]  matrix J is singular.\n",
      "Error: For point  [[-1.80143985e+10]\n",
      " [ 0.00000000e+00]]  matrix J is singular.\n",
      "Error: For point  [[ 0.00000000e+00]\n",
      " [-1.80143985e+10]]  matrix J is singular.\n",
      "Error: For point  [[-462.92620722]\n",
      " [ 185.03559194]]  matrix J is singular.\n",
      "Error: For point  [[ 63.72116107]\n",
      " [-23.49030887]]  matrix J is singular.\n",
      "Error: For point  [[ 52.29739434]\n",
      " [-18.29227545]]  matrix J is singular.\n",
      "Error: For point  [[ 77.52459691]\n",
      " [-27.72516273]]  matrix J is singular.\n",
      "Error: For point  [[196.47716531]\n",
      " [-72.69153156]]  matrix J is singular.\n",
      "Error: For point  [[-262.8103577 ]\n",
      " [ 101.48773062]]  matrix J is singular.\n",
      "Error: For point  [[-74.02465983]\n",
      " [ 30.04425513]]  matrix J is singular.\n",
      "Error: For point  [[-41.87299265]\n",
      " [ 17.96222471]]  matrix J is singular.\n"
     ]
    },
    {
     "name": "stderr",
     "output_type": "stream",
     "text": [
      "c:\\Users\\aaron\\AppData\\Local\\Programs\\Python\\Python39\\lib\\site-packages\\numpy\\linalg\\linalg.py:2154: RuntimeWarning: overflow encountered in det\n",
      "  r = _umath_linalg.det(a, signature=signature)\n"
     ]
    },
    {
     "name": "stdout",
     "output_type": "stream",
     "text": [
      "Error: For point  [[199.19639024]\n",
      " [-66.44671596]]  matrix J is singular.\n"
     ]
    }
   ],
   "source": [
    "def function_being_used(x0):\n",
    "    b = 1\n",
    "    g = -1\n",
    "    return f1(x0, b, g)\n",
    "\n",
    "\n",
    "def df(x):\n",
    "    h = 1e-06\n",
    "    J = MyJacobian(function_being_used, x, h)\n",
    "    J = np.squeeze(J, axis = 2)\n",
    "    return J\n",
    "\n",
    "\n",
    "x0 = np.array([0, 1.])\n",
    "tol = 1e-8\n",
    "maxit = 100\n",
    "\n",
    "\n",
    "\n",
    "\n",
    "eqlib_list = np.empty(shape=[0, 2])\n",
    "print(eqlib_list)\n",
    "\n",
    "for i in coords:\n",
    "    x , converged , jacobian = MySolve(function_being_used, i, df, tol, maxit)\n",
    "    \n",
    "    if converged:\n",
    "        x = np.squeeze(x, axis = 1)\n",
    "        eqlib_list = np.append(eqlib_list, np.array([x]), axis=0)\n",
    "    #print('eqlib_list', eqlib_list)\n",
    "    \n",
    "\n",
    "\n",
    "    "
   ]
  },
  {
   "cell_type": "code",
   "execution_count": 6,
   "metadata": {},
   "outputs": [],
   "source": [
    "def bin_repeats(points, threshold):\n",
    "\n",
    "    # Function to calculate the distance between two points\n",
    "    def distance(point1, point2):\n",
    "        return np.sqrt(np.sum((point1 - point2) ** 2))\n",
    "\n",
    "    # Create a mask for points to keep\n",
    "    keep_mask = np.ones(len(points), dtype=bool)\n",
    "\n",
    "    # Iterate through the points and filter based on the threshold\n",
    "    for i in range(len(points)):\n",
    "        if keep_mask[i]:\n",
    "            for j in range(i + 1, len(points)):\n",
    "                if distance(points[i], points[j]) < threshold:\n",
    "                    keep_mask[j] = False\n",
    "\n",
    "    # Use the mask to filter the points and create a 2D NumPy array\n",
    "    return points[keep_mask] \n",
    "    \n"
   ]
  },
  {
   "cell_type": "code",
   "execution_count": 7,
   "metadata": {},
   "outputs": [],
   "source": [
    "x , converged , jacobian = MySolve(function_being_used, np.array([0.1,0.1]), df, tol, maxit)"
   ]
  },
  {
   "cell_type": "code",
   "execution_count": 8,
   "metadata": {},
   "outputs": [
    {
     "name": "stdout",
     "output_type": "stream",
     "text": [
      "[[ 0.00000000e+00 -1.15898990e-22]\n",
      " [-9.25732798e-43  1.00000000e+00]\n",
      " [ 1.00000000e+00 -1.39415264e-18]\n",
      " [ 1.41080616e+00  2.43946544e-01]]\n"
     ]
    }
   ],
   "source": [
    "\n",
    "print(bin_repeats(eqlib_list, 1e-5))\n",
    "equlib_list = bin_repeats(eqlib_list, 1e-5)\n"
   ]
  },
  {
   "cell_type": "code",
   "execution_count": null,
   "metadata": {},
   "outputs": [],
   "source": []
  }
 ],
 "metadata": {
  "kernelspec": {
   "display_name": "Python 3",
   "language": "python",
   "name": "python3"
  },
  "language_info": {
   "codemirror_mode": {
    "name": "ipython",
    "version": 3
   },
   "file_extension": ".py",
   "mimetype": "text/x-python",
   "name": "python",
   "nbconvert_exporter": "python",
   "pygments_lexer": "ipython3",
   "version": "3.9.1"
  },
  "orig_nbformat": 4
 },
 "nbformat": 4,
 "nbformat_minor": 2
}
