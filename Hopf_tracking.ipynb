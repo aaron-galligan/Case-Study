{
 "cells": [
  {
   "cell_type": "code",
   "execution_count": 1,
   "metadata": {},
   "outputs": [],
   "source": [
    "from custom_functions import *\n",
    "import numpy as np\n",
    "import matplotlib.pyplot as plt\n",
    "from scipy.integrate import odeint\n",
    "from scipy.integrate import solve_ivp"
   ]
  },
  {
   "cell_type": "code",
   "execution_count": 2,
   "metadata": {},
   "outputs": [],
   "source": [
    "def f1(x_arr, b, g):\n",
    "    #x_arr is an array where x_arr[0] = x and x_arr[1] = z\n",
    "\n",
    "    dxdt = x_arr[0] - (x_arr[0]**2)*np.exp(-b*x_arr[0]*x_arr[1])\n",
    "    dzdt = x_arr[1] - (x_arr[1]**2)*np.exp(-g*x_arr[0])\n",
    "\n",
    "    return np.array([dxdt, dzdt])\n",
    "\n",
    "\n",
    "def df(x):\n",
    "    h = 1e-06\n",
    "    J = MyJacobian(function_being_used, x, h)\n",
    "    if J.ndim > 2:\n",
    "        J = J.squeeze(axis=2)\n",
    "    return J\n",
    "\n",
    "def function_for_IVP(t, x):\n",
    "    b = 1\n",
    "    g = -1\n",
    "    return f1(x, b, g)"
   ]
  },
  {
   "cell_type": "markdown",
   "metadata": {},
   "source": [
    "## Eqlib points for g = -1, b = 1 is (1.4108, 0.2439)"
   ]
  },
  {
   "cell_type": "markdown",
   "metadata": {},
   "source": [
    "## Now to track the euqlib, \n",
    "need to set up a RHS"
   ]
  },
  {
   "cell_type": "markdown",
   "metadata": {},
   "source": [
    "## userf1 is without extra dims"
   ]
  },
  {
   "cell_type": "code",
   "execution_count": 3,
   "metadata": {},
   "outputs": [],
   "source": [
    "\n",
    "\n",
    "def userdf(x):\n",
    "    h = 1e-06\n",
    "    J = MyJacobian(userf, x, h)\n",
    "    if J.ndim > 2:\n",
    "        J = J.squeeze(axis=2)\n",
    "    return J"
   ]
  },
  {
   "cell_type": "code",
   "execution_count": 4,
   "metadata": {},
   "outputs": [],
   "source": [
    "def userf1(t, x_arr, p):\n",
    "    '''2D ODE system for the AMOC\n",
    "    Input\n",
    "    t  : float\n",
    "        time value\n",
    "    x  : array (2, N)\n",
    "        state space values\n",
    "    p  : array (2,)\n",
    "        parameter values\n",
    "    \n",
    "    \n",
    "    Returns\n",
    "    xout: array, shape (2, N)\n",
    "           Array containing derivative at x\n",
    "           2nd dimension denotes derivatives for different points\n",
    "    '''\n",
    "    \n",
    "    if x_arr.ndim == 1:\n",
    "        x_arr = np.expand_dims(x_arr, axis=1)\n",
    "    \n",
    "    n = x_arr.shape\n",
    "    xout = np.empty(n)\n",
    "    xout[:] = np.nan \n",
    "\n",
    "    b = p[0,]\n",
    "    g = p[1,]\n",
    "    \n",
    "    \n",
    "    xout[0,:] = x_arr[0, :] - (x_arr[0, :]**2)*np.exp(-b*x_arr[0, :]*x_arr[1, :])\n",
    "    xout[1,:] = x_arr[1, :] - (x_arr[1, :]**2)*np.exp(-g*x_arr[0, :])\n",
    "    return xout"
   ]
  },
  {
   "cell_type": "markdown",
   "metadata": {},
   "source": [
    "# Find Eq with b = 1, g = -1"
   ]
  },
  {
   "cell_type": "code",
   "execution_count": 5,
   "metadata": {},
   "outputs": [
    {
     "name": "stdout",
     "output_type": "stream",
     "text": [
      "[[1.5        1.49999983 1.49999816 ... 1.41080616 1.41080616 1.41080616]\n",
      " [0.2        0.20000002 0.20000023 ... 0.24394654 0.24394654 0.24394654]]\n"
     ]
    },
    {
     "data": {
      "image/png": "[encoded data removed]",
      "text/plain": [
       "<Figure size 432x288 with 1 Axes>"
      ]
     },
     "metadata": {
      "needs_background": "light"
     },
     "output_type": "display_data"
    }
   ],
   "source": [
    "def func_for_scipy_ivp(t, x_arr, b, g):\n",
    "    #g is included in x_arr\n",
    "    #x_arr is an array where x_arr[0] = x and x_arr[1] = z, x_arr[2] = g\n",
    "    #b = p[0]\n",
    "    #g = p[1]\n",
    "\n",
    "    dxdt = x_arr[0] - (x_arr[0]**2)*np.exp(-b*x_arr[0]*x_arr[1])\n",
    "    dzdt = x_arr[1] - (x_arr[1]**2)*np.exp(-g*x_arr[0])\n",
    "\n",
    "    return np.array([dxdt, dzdt])\n",
    "\n",
    "#Using scipy solver test\n",
    "tspan = [0,100]\n",
    "b = 1\n",
    "g = -1\n",
    "p = np.array([b, g])\n",
    "x0 = np.array([1.5,0.2])\n",
    "sol = solve_ivp(func_for_scipy_ivp,tspan, x0, args= (p), first_step = 1e-6, max_step = 1e-1)\n",
    "\n",
    "#t = np.linspace(0, 100, 1000)\n",
    "#points = sol.sol(t)\n",
    "\n",
    "\n",
    "print(sol.y)\n",
    "plt.plot(sol.y[0], sol.y[1])\n",
    "plt.xlabel(\"$x$\")\n",
    "plt.ylabel(\"$y$\")\n",
    "plt.title(\"Phase plane: F=0\")\n",
    "\n",
    "plt.show()"
   ]
  },
  {
   "cell_type": "code",
   "execution_count": 6,
   "metadata": {},
   "outputs": [
    {
     "name": "stdout",
     "output_type": "stream",
     "text": [
      "[1.41080616 0.24394654]\n"
     ]
    },
    {
     "data": {
      "image/png": "[encoded data removed]",
      "text/plain": [
       "<Figure size 432x288 with 1 Axes>"
      ]
     },
     "metadata": {
      "needs_background": "light"
     },
     "output_type": "display_data"
    }
   ],
   "source": [
    "# Define parameters p\n",
    "b = 1\n",
    "g = -1\n",
    "p = np.array([b, g])\n",
    "\n",
    "#define variable to go into MyIVP\n",
    "x0 = np.array([1.5,0.2])\n",
    "tspan = [0,100]\n",
    "h = 0.01\n",
    "\n",
    "#call MyIVP\n",
    "[X,t,xeq1] = MyIVP(lambda t,x:userf1(t,x,p),x0,tspan,h)\n",
    "X = np.squeeze(X)\n",
    "xeq1 = np.squeeze(xeq1)\n",
    "print(xeq1)\n",
    "\n",
    "#Plot\n",
    "plt.plot(X[0,:],X[1,:])\n",
    "plt.xlabel(\"$x$\")\n",
    "plt.ylabel(\"$y$\")\n",
    "plt.title(\"Phase plane: F=0\")\n",
    "\n",
    "plt.show()"
   ]
  },
  {
   "cell_type": "markdown",
   "metadata": {},
   "source": [
    "### Jacobian and Eigenvalues"
   ]
  },
  {
   "cell_type": "code",
   "execution_count": 7,
   "metadata": {},
   "outputs": [
    {
     "name": "stdout",
     "output_type": "stream",
     "text": [
      "[-0.82791352+0.67524463j -0.82791352-0.67524463j]\n"
     ]
    }
   ],
   "source": [
    "\n",
    "J = MyJacobian(lambda x:userf1(0,x,p),xeq1,h)\n",
    "eig_val = linalg.eig(J[:,:,0])[0]\n",
    "\n",
    "print(eig_val)"
   ]
  },
  {
   "cell_type": "markdown",
   "metadata": {},
   "source": [
    "# Now Track the Equilibria"
   ]
  },
  {
   "cell_type": "code",
   "execution_count": 8,
   "metadata": {},
   "outputs": [
    {
     "name": "stdout",
     "output_type": "stream",
     "text": [
      "[ 1.41080616  0.24394654 -1.        ]\n",
      "[0.50735311 0.16717552 0.84536689]\n"
     ]
    },
    {
     "name": "stderr",
     "output_type": "stream",
     "text": [
      "C:\\Users\\aaron\\AppData\\Local\\Temp\\ipykernel_42632\\1721729536.py:2: VisibleDeprecationWarning: Creating an ndarray from ragged nested sequences (which is a list-or-tuple of lists-or-tuples-or ndarrays with different lengths or shapes) is deprecated. If you meant to do this, you must specify 'dtype=object' when creating the ndarray.\n",
      "  RHS = lambda y: userf1(0,y[0:2,:],np.array([b, y[2,:]]))\n"
     ]
    }
   ],
   "source": [
    "# Define RHS for tracking equilibria\n",
    "RHS = lambda y: userf1(0,y[0:2,:],np.array([b, y[2,:]]))\n",
    "\n",
    "h=1e-6\n",
    "df= lambda y: np.squeeze(MyJacobian(RHS,y,h),axis=2)\n",
    "\n",
    "# Define MyTrackCurve initial points, MAKE GUESS OF Y TANGENT\n",
    "y0 = np.append(xeq1,np.array([g]),axis=0)\n",
    "print(y0)\n",
    "ytan0 = np.expand_dims(np.array([0.,0.,1.]),axis=1) # guess in the direction of increasing F\n",
    "\n",
    "# Solve for the true initial tangent\n",
    "df0 = df(y0)\n",
    "zeros0 = np.zeros((2,))\n",
    "zeros1 = np.append(zeros0,np.array([1.]),axis=0)\n",
    "f0 = np.concatenate((df0,np.transpose(ytan0)),axis=0)\n",
    "z = np.linalg.lstsq(f0,zeros1,rcond=None)[0]\n",
    "mult = np.sign(np.matmul(np.transpose(z),ytan0))\n",
    "ytan = np.divide(z,linalg.norm(z))*mult\n",
    "\n",
    "print(ytan)\n",
    "\n",
    "ylist1 = MyTrackCurve(RHS,df,y0,ytan,nmax=2500,stepsize=0.01)\n",
    "\n",
    "\n",
    "#NOW OTHER DIRECTION\n",
    "# guess in direction for decreasing F\n",
    "ytan0 = np.expand_dims(np.array([0.,0.,-1.]),axis=1)\n",
    "\n",
    "# Solve for the true initial tangent\n",
    "f0 = np.concatenate((df0,np.transpose(ytan0)),axis=0)\n",
    "z = np.linalg.lstsq(f0,zeros1,rcond=None)[0]\n",
    "mult = np.sign(np.matmul(np.transpose(z),ytan0))\n",
    "ytan = np.divide(z,linalg.norm(z))*mult\n",
    "\n",
    "ylist2 = MyTrackCurve(RHS,df,y0,ytan,nmax=1000,stepsize=0.01)\n",
    "\n",
    "###Concatenate\n",
    "ylist = np.concatenate((np.flip(ylist2,1),ylist1),axis=1)\n",
    "#ylist = ylist1.copy()"
   ]
  },
  {
   "cell_type": "code",
   "execution_count": 9,
   "metadata": {},
   "outputs": [
    {
     "name": "stdout",
     "output_type": "stream",
     "text": [
      "[ 1.00001778e+00  1.77779901e-05 -1.09373549e+01]\n"
     ]
    },
    {
     "data": {
      "image/png": "[encoded data removed]",
      "text/plain": [
       "<Figure size 432x288 with 1 Axes>"
      ]
     },
     "metadata": {
      "needs_background": "light"
     },
     "output_type": "display_data"
    }
   ],
   "source": [
    "#ylist = np.concatenate((np.flip(ylist2,1),ylist1),axis=1)\n",
    "#ylist = ylist1.copy\n",
    "print(ylist[:,0])\n",
    "plt.plot(ylist[2,:],ylist[1,:])\n",
    "plt.xlabel(\"$g$\")\n",
    "plt.ylabel(\"$y$\")\n",
    "\n",
    "plt.show()"
   ]
  },
  {
   "cell_type": "markdown",
   "metadata": {},
   "source": [
    "## Plotting"
   ]
  },
  {
   "cell_type": "code",
   "execution_count": 10,
   "metadata": {},
   "outputs": [
    {
     "data": {
      "image/png": "[encoded data removed]",
      "text/plain": [
       "<Figure size 1080x288 with 3 Axes>"
      ]
     },
     "metadata": {
      "needs_background": "light"
     },
     "output_type": "display_data"
    }
   ],
   "source": [
    "fig, axs = plt.subplots(1, 3, figsize=(15, 4))\n",
    "\n",
    "ax1 = axs[0]\n",
    "ax1.plot(ylist[2,:],ylist[1,:], label = 'g vs y')\n",
    "ax1.set_xlabel(\"$g$\")\n",
    "ax1.set_ylabel(\"$y$\")\n",
    "ax1.legend()\n",
    "ax1.set_title(\"\")\n",
    "\n",
    "ax2 = axs[1]\n",
    "ax2.plot(ylist[2,:], ylist[0,:], label = 'g vs x')\n",
    "ax2.set_xlabel(\"$g$\")\n",
    "ax2.set_ylabel(\"$x$\")\n",
    "ax2.legend()\n",
    "ax2.set_title(\"\")\n",
    "\n",
    "ax3 = axs[2]\n",
    "length = ylist.shape[1] # The number of points in ylist\n",
    "ax3.plot(ylist[0,:], ylist[1,:], label = 'Equilibrium point as g varies.')\n",
    "label = ' g = ' + str(ylist[2,0])\n",
    "ax3.plot(ylist[0,0], ylist[1,0], '.', color = 'r')\n",
    "ax3.text(ylist[0,0], ylist[1,0],label)\n",
    "\n",
    "label = ' g = ' + str(ylist[2,int(length/2)])\n",
    "ax3.plot(ylist[0,int(length/2)], ylist[1,int(length/2)], '.', color = 'r' )\n",
    "ax3.text(ylist[0,int(length/2)], ylist[1,int(length/2)],label)\n",
    "\n",
    "label = ' g = ' + str(ylist[2,length-1])\n",
    "ax3.plot(ylist[0,int(length-1)], ylist[1,int(length-1)], '.', color = 'r' )\n",
    "ax3.text(ylist[0,int(length-1)], ylist[1,int(length-1)],label)\n",
    "\n",
    "ax3.set_xlabel(\"$x$\")\n",
    "ax3.set_ylabel(\"$y$\")\n",
    "ax3.legend()\n",
    "ax3.set_title(\"\")\n",
    "\n",
    "#ax4 = axs[1, 1]\n",
    "\n",
    "plt.show()"
   ]
  },
  {
   "cell_type": "markdown",
   "metadata": {},
   "source": [
    "### Find stability at each point"
   ]
  },
  {
   "cell_type": "code",
   "execution_count": 11,
   "metadata": {},
   "outputs": [
    {
     "name": "stderr",
     "output_type": "stream",
     "text": [
      "C:\\Users\\aaron\\AppData\\Local\\Temp\\ipykernel_42632\\1999165742.py:2: RuntimeWarning: invalid value encountered in multiply\n",
      "  stab = np.empty((ylist.shape[1],1))*np.nan\n"
     ]
    },
    {
     "name": "stdout",
     "output_type": "stream",
     "text": [
      "should be same [1.00001778e+00 1.77779901e-05] [1.41080616 0.24394654]\n"
     ]
    }
   ],
   "source": [
    "#Finding the eigen values (eig_val), and stability (stab) at at value of g\n",
    "stab = np.empty((ylist.shape[1],1))*np.nan\n",
    "#note that the number of eigen values at each point of g will be ylist's (=[x,z,g])  width-1\n",
    "eig_val = np.empty((ylist.shape[1],ylist.shape[0]-1),dtype=np.csingle)*np.nan\n",
    "\n",
    "print('should be same',ylist[0:2,0], xeq1)\n",
    "\n",
    "#J = MyJacobian(lambda x:userf1(0,x,p_i),ylist[0:2,i],h)\n",
    "#eig_val[i,:] = linalg.eig(J[:,:,0])[0]\n",
    "\n",
    "for i in np.arange(0,ylist.shape[1]):\n",
    "    p_i =np.array([b, ylist[2,i]])\n",
    "    J = MyJacobian(lambda x:userf1(0,x,p_i),ylist[0:2,i],h)\n",
    "    eig_val[i,:] = linalg.eig(J[:,:,0])[0]\n",
    "    max_eig = max(np.real(eig_val[i,:]))\n",
    "    stab[i] = max_eig > 0\n",
    "    if (i>0 and stab[i] != stab[i-1] and stab[i-1] != 10):\n",
    "        #print(max_eig)\n",
    "        stab[i] = 10\n",
    "\n",
    "\n",
    "#print(eig_val)"
   ]
  },
  {
   "cell_type": "markdown",
   "metadata": {},
   "source": [
    "### Plot stabilities"
   ]
  },
  {
   "cell_type": "code",
   "execution_count": 12,
   "metadata": {},
   "outputs": [
    {
     "name": "stdout",
     "output_type": "stream",
     "text": [
      "7.396477518733321 0.270534706666858 -0.17675371553680821\n",
      "[[-0.9999911 +0.01394457j -0.9999911 -0.01394457j]\n",
      " [-0.999991  +0.01400805j -0.999991  -0.01400805j]\n",
      " [-0.99999094+0.01407181j -0.99999094-0.01407181j]\n",
      " ...\n",
      " [ 0.6324104 +2.0325696j   0.6324104 -2.0325696j ]\n",
      " [ 0.6326014 +2.0328245j   0.6326014 -2.0328245j ]\n",
      " [ 0.6327923 +2.0330796j   0.6327923 -2.0330796j ]]\n",
      "Error in callback <function flush_figures at 0x000001B360720EE0> (for post_execute):\n"
     ]
    },
    {
     "ename": "KeyboardInterrupt",
     "evalue": "",
     "output_type": "error",
     "traceback": [
      "\u001b[1;31m---------------------------------------------------------------------------\u001b[0m",
      "\u001b[1;31mKeyboardInterrupt\u001b[0m                         Traceback (most recent call last)",
      "File \u001b[1;32m~\\AppData\\Roaming\\Python\\Python39\\site-packages\\matplotlib_inline\\backend_inline.py:121\u001b[0m, in \u001b[0;36mflush_figures\u001b[1;34m()\u001b[0m\n\u001b[0;32m    118\u001b[0m \u001b[39mif\u001b[39;00m InlineBackend\u001b[39m.\u001b[39minstance()\u001b[39m.\u001b[39mclose_figures:\n\u001b[0;32m    119\u001b[0m     \u001b[39m# ignore the tracking, just draw and close all figures\u001b[39;00m\n\u001b[0;32m    120\u001b[0m     \u001b[39mtry\u001b[39;00m:\n\u001b[1;32m--> 121\u001b[0m         \u001b[39mreturn\u001b[39;00m show(\u001b[39mTrue\u001b[39;49;00m)\n\u001b[0;32m    122\u001b[0m     \u001b[39mexcept\u001b[39;00m \u001b[39mException\u001b[39;00m \u001b[39mas\u001b[39;00m e:\n\u001b[0;32m    123\u001b[0m         \u001b[39m# safely show traceback if in IPython, else raise\u001b[39;00m\n\u001b[0;32m    124\u001b[0m         ip \u001b[39m=\u001b[39m get_ipython()\n",
      "File \u001b[1;32m~\\AppData\\Roaming\\Python\\Python39\\site-packages\\matplotlib_inline\\backend_inline.py:41\u001b[0m, in \u001b[0;36mshow\u001b[1;34m(close, block)\u001b[0m\n\u001b[0;32m     39\u001b[0m \u001b[39mtry\u001b[39;00m:\n\u001b[0;32m     40\u001b[0m     \u001b[39mfor\u001b[39;00m figure_manager \u001b[39min\u001b[39;00m Gcf\u001b[39m.\u001b[39mget_all_fig_managers():\n\u001b[1;32m---> 41\u001b[0m         display(\n\u001b[0;32m     42\u001b[0m             figure_manager\u001b[39m.\u001b[39;49mcanvas\u001b[39m.\u001b[39;49mfigure,\n\u001b[0;32m     43\u001b[0m             metadata\u001b[39m=\u001b[39;49m_fetch_figure_metadata(figure_manager\u001b[39m.\u001b[39;49mcanvas\u001b[39m.\u001b[39;49mfigure)\n\u001b[0;32m     44\u001b[0m         )\n\u001b[0;32m     45\u001b[0m \u001b[39mfinally\u001b[39;00m:\n\u001b[0;32m     46\u001b[0m     show\u001b[39m.\u001b[39m_to_draw \u001b[39m=\u001b[39m []\n",
      "File \u001b[1;32m~\\AppData\\Roaming\\Python\\Python39\\site-packages\\IPython\\core\\display_functions.py:298\u001b[0m, in \u001b[0;36mdisplay\u001b[1;34m(include, exclude, metadata, transient, display_id, raw, clear, *objs, **kwargs)\u001b[0m\n\u001b[0;32m    296\u001b[0m     publish_display_data(data\u001b[39m=\u001b[39mobj, metadata\u001b[39m=\u001b[39mmetadata, \u001b[39m*\u001b[39m\u001b[39m*\u001b[39mkwargs)\n\u001b[0;32m    297\u001b[0m \u001b[39melse\u001b[39;00m:\n\u001b[1;32m--> 298\u001b[0m     format_dict, md_dict \u001b[39m=\u001b[39m \u001b[39mformat\u001b[39;49m(obj, include\u001b[39m=\u001b[39;49minclude, exclude\u001b[39m=\u001b[39;49mexclude)\n\u001b[0;32m    299\u001b[0m     \u001b[39mif\u001b[39;00m \u001b[39mnot\u001b[39;00m format_dict:\n\u001b[0;32m    300\u001b[0m         \u001b[39m# nothing to display (e.g. _ipython_display_ took over)\u001b[39;00m\n\u001b[0;32m    301\u001b[0m         \u001b[39mcontinue\u001b[39;00m\n",
      "File \u001b[1;32m~\\AppData\\Roaming\\Python\\Python39\\site-packages\\IPython\\core\\formatters.py:178\u001b[0m, in \u001b[0;36mDisplayFormatter.format\u001b[1;34m(self, obj, include, exclude)\u001b[0m\n\u001b[0;32m    176\u001b[0m md \u001b[39m=\u001b[39m \u001b[39mNone\u001b[39;00m\n\u001b[0;32m    177\u001b[0m \u001b[39mtry\u001b[39;00m:\n\u001b[1;32m--> 178\u001b[0m     data \u001b[39m=\u001b[39m formatter(obj)\n\u001b[0;32m    179\u001b[0m \u001b[39mexcept\u001b[39;00m:\n\u001b[0;32m    180\u001b[0m     \u001b[39m# FIXME: log the exception\u001b[39;00m\n\u001b[0;32m    181\u001b[0m     \u001b[39mraise\u001b[39;00m\n",
      "File \u001b[1;32m~\\AppData\\Roaming\\Python\\Python39\\site-packages\\decorator.py:232\u001b[0m, in \u001b[0;36mdecorate.<locals>.fun\u001b[1;34m(*args, **kw)\u001b[0m\n\u001b[0;32m    230\u001b[0m \u001b[39mif\u001b[39;00m \u001b[39mnot\u001b[39;00m kwsyntax:\n\u001b[0;32m    231\u001b[0m     args, kw \u001b[39m=\u001b[39m fix(args, kw, sig)\n\u001b[1;32m--> 232\u001b[0m \u001b[39mreturn\u001b[39;00m caller(func, \u001b[39m*\u001b[39m(extras \u001b[39m+\u001b[39m args), \u001b[39m*\u001b[39m\u001b[39m*\u001b[39mkw)\n",
      "File \u001b[1;32m~\\AppData\\Roaming\\Python\\Python39\\site-packages\\IPython\\core\\formatters.py:222\u001b[0m, in \u001b[0;36mcatch_format_error\u001b[1;34m(method, self, *args, **kwargs)\u001b[0m\n\u001b[0;32m    220\u001b[0m \u001b[39m\u001b[39m\u001b[39m\"\"\"show traceback on failed format call\"\"\"\u001b[39;00m\n\u001b[0;32m    221\u001b[0m \u001b[39mtry\u001b[39;00m:\n\u001b[1;32m--> 222\u001b[0m     r \u001b[39m=\u001b[39m method(\u001b[39mself\u001b[39m, \u001b[39m*\u001b[39margs, \u001b[39m*\u001b[39m\u001b[39m*\u001b[39mkwargs)\n\u001b[0;32m    223\u001b[0m \u001b[39mexcept\u001b[39;00m \u001b[39mNotImplementedError\u001b[39;00m:\n\u001b[0;32m    224\u001b[0m     \u001b[39m# don't warn on NotImplementedErrors\u001b[39;00m\n\u001b[0;32m    225\u001b[0m     \u001b[39mreturn\u001b[39;00m \u001b[39mself\u001b[39m\u001b[39m.\u001b[39m_check_return(\u001b[39mNone\u001b[39;00m, args[\u001b[39m0\u001b[39m])\n",
      "File \u001b[1;32m~\\AppData\\Roaming\\Python\\Python39\\site-packages\\IPython\\core\\formatters.py:339\u001b[0m, in \u001b[0;36mBaseFormatter.__call__\u001b[1;34m(self, obj)\u001b[0m\n\u001b[0;32m    337\u001b[0m     \u001b[39mpass\u001b[39;00m\n\u001b[0;32m    338\u001b[0m \u001b[39melse\u001b[39;00m:\n\u001b[1;32m--> 339\u001b[0m     \u001b[39mreturn\u001b[39;00m printer(obj)\n\u001b[0;32m    340\u001b[0m \u001b[39m# Finally look for special method names\u001b[39;00m\n\u001b[0;32m    341\u001b[0m method \u001b[39m=\u001b[39m get_real_method(obj, \u001b[39mself\u001b[39m\u001b[39m.\u001b[39mprint_method)\n",
      "File \u001b[1;32m~\\AppData\\Roaming\\Python\\Python39\\site-packages\\IPython\\core\\pylabtools.py:151\u001b[0m, in \u001b[0;36mprint_figure\u001b[1;34m(fig, fmt, bbox_inches, base64, **kwargs)\u001b[0m\n\u001b[0;32m    148\u001b[0m     \u001b[39mfrom\u001b[39;00m \u001b[39mmatplotlib\u001b[39;00m\u001b[39m.\u001b[39;00m\u001b[39mbackend_bases\u001b[39;00m \u001b[39mimport\u001b[39;00m FigureCanvasBase\n\u001b[0;32m    149\u001b[0m     FigureCanvasBase(fig)\n\u001b[1;32m--> 151\u001b[0m fig\u001b[39m.\u001b[39mcanvas\u001b[39m.\u001b[39mprint_figure(bytes_io, \u001b[39m*\u001b[39m\u001b[39m*\u001b[39mkw)\n\u001b[0;32m    152\u001b[0m data \u001b[39m=\u001b[39m bytes_io\u001b[39m.\u001b[39mgetvalue()\n\u001b[0;32m    153\u001b[0m \u001b[39mif\u001b[39;00m fmt \u001b[39m==\u001b[39m \u001b[39m'\u001b[39m\u001b[39msvg\u001b[39m\u001b[39m'\u001b[39m:\n",
      "File \u001b[1;32mc:\\Users\\aaron\\AppData\\Local\\Programs\\Python\\Python39\\lib\\site-packages\\matplotlib\\backend_bases.py:2295\u001b[0m, in \u001b[0;36mFigureCanvasBase.print_figure\u001b[1;34m(self, filename, dpi, facecolor, edgecolor, orientation, format, bbox_inches, pad_inches, bbox_extra_artists, backend, **kwargs)\u001b[0m\n\u001b[0;32m   2289\u001b[0m     renderer \u001b[39m=\u001b[39m _get_renderer(\n\u001b[0;32m   2290\u001b[0m         \u001b[39mself\u001b[39m\u001b[39m.\u001b[39mfigure,\n\u001b[0;32m   2291\u001b[0m         functools\u001b[39m.\u001b[39mpartial(\n\u001b[0;32m   2292\u001b[0m             print_method, orientation\u001b[39m=\u001b[39morientation)\n\u001b[0;32m   2293\u001b[0m     )\n\u001b[0;32m   2294\u001b[0m     \u001b[39mwith\u001b[39;00m \u001b[39mgetattr\u001b[39m(renderer, \u001b[39m\"\u001b[39m\u001b[39m_draw_disabled\u001b[39m\u001b[39m\"\u001b[39m, nullcontext)():\n\u001b[1;32m-> 2295\u001b[0m         \u001b[39mself\u001b[39;49m\u001b[39m.\u001b[39;49mfigure\u001b[39m.\u001b[39;49mdraw(renderer)\n\u001b[0;32m   2297\u001b[0m \u001b[39mif\u001b[39;00m bbox_inches:\n\u001b[0;32m   2298\u001b[0m     \u001b[39mif\u001b[39;00m bbox_inches \u001b[39m==\u001b[39m \u001b[39m\"\u001b[39m\u001b[39mtight\u001b[39m\u001b[39m\"\u001b[39m:\n",
      "File \u001b[1;32mc:\\Users\\aaron\\AppData\\Local\\Programs\\Python\\Python39\\lib\\site-packages\\matplotlib\\artist.py:74\u001b[0m, in \u001b[0;36m_finalize_rasterization.<locals>.draw_wrapper\u001b[1;34m(artist, renderer, *args, **kwargs)\u001b[0m\n\u001b[0;32m     72\u001b[0m \u001b[39m@wraps\u001b[39m(draw)\n\u001b[0;32m     73\u001b[0m \u001b[39mdef\u001b[39;00m \u001b[39mdraw_wrapper\u001b[39m(artist, renderer, \u001b[39m*\u001b[39margs, \u001b[39m*\u001b[39m\u001b[39m*\u001b[39mkwargs):\n\u001b[1;32m---> 74\u001b[0m     result \u001b[39m=\u001b[39m draw(artist, renderer, \u001b[39m*\u001b[39margs, \u001b[39m*\u001b[39m\u001b[39m*\u001b[39mkwargs)\n\u001b[0;32m     75\u001b[0m     \u001b[39mif\u001b[39;00m renderer\u001b[39m.\u001b[39m_rasterizing:\n\u001b[0;32m     76\u001b[0m         renderer\u001b[39m.\u001b[39mstop_rasterizing()\n",
      "File \u001b[1;32mc:\\Users\\aaron\\AppData\\Local\\Programs\\Python\\Python39\\lib\\site-packages\\matplotlib\\artist.py:51\u001b[0m, in \u001b[0;36mallow_rasterization.<locals>.draw_wrapper\u001b[1;34m(artist, renderer)\u001b[0m\n\u001b[0;32m     48\u001b[0m     \u001b[39mif\u001b[39;00m artist\u001b[39m.\u001b[39mget_agg_filter() \u001b[39mis\u001b[39;00m \u001b[39mnot\u001b[39;00m \u001b[39mNone\u001b[39;00m:\n\u001b[0;32m     49\u001b[0m         renderer\u001b[39m.\u001b[39mstart_filter()\n\u001b[1;32m---> 51\u001b[0m     \u001b[39mreturn\u001b[39;00m draw(artist, renderer)\n\u001b[0;32m     52\u001b[0m \u001b[39mfinally\u001b[39;00m:\n\u001b[0;32m     53\u001b[0m     \u001b[39mif\u001b[39;00m artist\u001b[39m.\u001b[39mget_agg_filter() \u001b[39mis\u001b[39;00m \u001b[39mnot\u001b[39;00m \u001b[39mNone\u001b[39;00m:\n",
      "File \u001b[1;32mc:\\Users\\aaron\\AppData\\Local\\Programs\\Python\\Python39\\lib\\site-packages\\matplotlib\\figure.py:2845\u001b[0m, in \u001b[0;36mFigure.draw\u001b[1;34m(self, renderer)\u001b[0m\n\u001b[0;32m   2842\u001b[0m         \u001b[39m# ValueError can occur when resizing a window.\u001b[39;00m\n\u001b[0;32m   2844\u001b[0m \u001b[39mself\u001b[39m\u001b[39m.\u001b[39mpatch\u001b[39m.\u001b[39mdraw(renderer)\n\u001b[1;32m-> 2845\u001b[0m mimage\u001b[39m.\u001b[39;49m_draw_list_compositing_images(\n\u001b[0;32m   2846\u001b[0m     renderer, \u001b[39mself\u001b[39;49m, artists, \u001b[39mself\u001b[39;49m\u001b[39m.\u001b[39;49msuppressComposite)\n\u001b[0;32m   2848\u001b[0m \u001b[39mfor\u001b[39;00m sfig \u001b[39min\u001b[39;00m \u001b[39mself\u001b[39m\u001b[39m.\u001b[39msubfigs:\n\u001b[0;32m   2849\u001b[0m     sfig\u001b[39m.\u001b[39mdraw(renderer)\n",
      "File \u001b[1;32mc:\\Users\\aaron\\AppData\\Local\\Programs\\Python\\Python39\\lib\\site-packages\\matplotlib\\image.py:132\u001b[0m, in \u001b[0;36m_draw_list_compositing_images\u001b[1;34m(renderer, parent, artists, suppress_composite)\u001b[0m\n\u001b[0;32m    130\u001b[0m \u001b[39mif\u001b[39;00m not_composite \u001b[39mor\u001b[39;00m \u001b[39mnot\u001b[39;00m has_images:\n\u001b[0;32m    131\u001b[0m     \u001b[39mfor\u001b[39;00m a \u001b[39min\u001b[39;00m artists:\n\u001b[1;32m--> 132\u001b[0m         a\u001b[39m.\u001b[39;49mdraw(renderer)\n\u001b[0;32m    133\u001b[0m \u001b[39melse\u001b[39;00m:\n\u001b[0;32m    134\u001b[0m     \u001b[39m# Composite any adjacent images together\u001b[39;00m\n\u001b[0;32m    135\u001b[0m     image_group \u001b[39m=\u001b[39m []\n",
      "File \u001b[1;32mc:\\Users\\aaron\\AppData\\Local\\Programs\\Python\\Python39\\lib\\site-packages\\matplotlib\\artist.py:51\u001b[0m, in \u001b[0;36mallow_rasterization.<locals>.draw_wrapper\u001b[1;34m(artist, renderer)\u001b[0m\n\u001b[0;32m     48\u001b[0m     \u001b[39mif\u001b[39;00m artist\u001b[39m.\u001b[39mget_agg_filter() \u001b[39mis\u001b[39;00m \u001b[39mnot\u001b[39;00m \u001b[39mNone\u001b[39;00m:\n\u001b[0;32m     49\u001b[0m         renderer\u001b[39m.\u001b[39mstart_filter()\n\u001b[1;32m---> 51\u001b[0m     \u001b[39mreturn\u001b[39;00m draw(artist, renderer)\n\u001b[0;32m     52\u001b[0m \u001b[39mfinally\u001b[39;00m:\n\u001b[0;32m     53\u001b[0m     \u001b[39mif\u001b[39;00m artist\u001b[39m.\u001b[39mget_agg_filter() \u001b[39mis\u001b[39;00m \u001b[39mnot\u001b[39;00m \u001b[39mNone\u001b[39;00m:\n",
      "File \u001b[1;32mc:\\Users\\aaron\\AppData\\Local\\Programs\\Python\\Python39\\lib\\site-packages\\matplotlib\\axes\\_base.py:3091\u001b[0m, in \u001b[0;36m_AxesBase.draw\u001b[1;34m(self, renderer)\u001b[0m\n\u001b[0;32m   3088\u001b[0m         a\u001b[39m.\u001b[39mdraw(renderer)\n\u001b[0;32m   3089\u001b[0m     renderer\u001b[39m.\u001b[39mstop_rasterizing()\n\u001b[1;32m-> 3091\u001b[0m mimage\u001b[39m.\u001b[39;49m_draw_list_compositing_images(\n\u001b[0;32m   3092\u001b[0m     renderer, \u001b[39mself\u001b[39;49m, artists, \u001b[39mself\u001b[39;49m\u001b[39m.\u001b[39;49mfigure\u001b[39m.\u001b[39;49msuppressComposite)\n\u001b[0;32m   3094\u001b[0m renderer\u001b[39m.\u001b[39mclose_group(\u001b[39m'\u001b[39m\u001b[39maxes\u001b[39m\u001b[39m'\u001b[39m)\n\u001b[0;32m   3095\u001b[0m \u001b[39mself\u001b[39m\u001b[39m.\u001b[39mstale \u001b[39m=\u001b[39m \u001b[39mFalse\u001b[39;00m\n",
      "File \u001b[1;32mc:\\Users\\aaron\\AppData\\Local\\Programs\\Python\\Python39\\lib\\site-packages\\matplotlib\\image.py:132\u001b[0m, in \u001b[0;36m_draw_list_compositing_images\u001b[1;34m(renderer, parent, artists, suppress_composite)\u001b[0m\n\u001b[0;32m    130\u001b[0m \u001b[39mif\u001b[39;00m not_composite \u001b[39mor\u001b[39;00m \u001b[39mnot\u001b[39;00m has_images:\n\u001b[0;32m    131\u001b[0m     \u001b[39mfor\u001b[39;00m a \u001b[39min\u001b[39;00m artists:\n\u001b[1;32m--> 132\u001b[0m         a\u001b[39m.\u001b[39;49mdraw(renderer)\n\u001b[0;32m    133\u001b[0m \u001b[39melse\u001b[39;00m:\n\u001b[0;32m    134\u001b[0m     \u001b[39m# Composite any adjacent images together\u001b[39;00m\n\u001b[0;32m    135\u001b[0m     image_group \u001b[39m=\u001b[39m []\n",
      "File \u001b[1;32mc:\\Users\\aaron\\AppData\\Local\\Programs\\Python\\Python39\\lib\\site-packages\\matplotlib\\artist.py:51\u001b[0m, in \u001b[0;36mallow_rasterization.<locals>.draw_wrapper\u001b[1;34m(artist, renderer)\u001b[0m\n\u001b[0;32m     48\u001b[0m     \u001b[39mif\u001b[39;00m artist\u001b[39m.\u001b[39mget_agg_filter() \u001b[39mis\u001b[39;00m \u001b[39mnot\u001b[39;00m \u001b[39mNone\u001b[39;00m:\n\u001b[0;32m     49\u001b[0m         renderer\u001b[39m.\u001b[39mstart_filter()\n\u001b[1;32m---> 51\u001b[0m     \u001b[39mreturn\u001b[39;00m draw(artist, renderer)\n\u001b[0;32m     52\u001b[0m \u001b[39mfinally\u001b[39;00m:\n\u001b[0;32m     53\u001b[0m     \u001b[39mif\u001b[39;00m artist\u001b[39m.\u001b[39mget_agg_filter() \u001b[39mis\u001b[39;00m \u001b[39mnot\u001b[39;00m \u001b[39mNone\u001b[39;00m:\n",
      "File \u001b[1;32mc:\\Users\\aaron\\AppData\\Local\\Programs\\Python\\Python39\\lib\\site-packages\\matplotlib\\lines.py:815\u001b[0m, in \u001b[0;36mLine2D.draw\u001b[1;34m(self, renderer)\u001b[0m\n\u001b[0;32m    812\u001b[0m         tpath, affine \u001b[39m=\u001b[39m (\u001b[39mself\u001b[39m\u001b[39m.\u001b[39m_get_transformed_path()\n\u001b[0;32m    813\u001b[0m                          \u001b[39m.\u001b[39mget_transformed_points_and_affine())\n\u001b[0;32m    814\u001b[0m \u001b[39melse\u001b[39;00m:\n\u001b[1;32m--> 815\u001b[0m     tpath, affine \u001b[39m=\u001b[39m (\u001b[39mself\u001b[39;49m\u001b[39m.\u001b[39;49m_get_transformed_path()\n\u001b[0;32m    816\u001b[0m                      \u001b[39m.\u001b[39;49mget_transformed_points_and_affine())\n\u001b[0;32m    818\u001b[0m \u001b[39mif\u001b[39;00m \u001b[39mlen\u001b[39m(tpath\u001b[39m.\u001b[39mvertices):\n\u001b[0;32m    819\u001b[0m     \u001b[39m# subsample the markers if markevery is not None\u001b[39;00m\n\u001b[0;32m    820\u001b[0m     markevery \u001b[39m=\u001b[39m \u001b[39mself\u001b[39m\u001b[39m.\u001b[39mget_markevery()\n",
      "File \u001b[1;32mc:\\Users\\aaron\\AppData\\Local\\Programs\\Python\\Python39\\lib\\site-packages\\matplotlib\\transforms.py:2778\u001b[0m, in \u001b[0;36mTransformedPath.get_transformed_points_and_affine\u001b[1;34m(self)\u001b[0m\n\u001b[0;32m   2770\u001b[0m \u001b[39m\u001b[39m\u001b[39m\"\"\"\u001b[39;00m\n\u001b[0;32m   2771\u001b[0m \u001b[39mReturn a copy of the child path, with the non-affine part of\u001b[39;00m\n\u001b[0;32m   2772\u001b[0m \u001b[39mthe transform already applied, along with the affine part of\u001b[39;00m\n\u001b[1;32m   (...)\u001b[0m\n\u001b[0;32m   2775\u001b[0m \u001b[39mbe performed.\u001b[39;00m\n\u001b[0;32m   2776\u001b[0m \u001b[39m\"\"\"\u001b[39;00m\n\u001b[0;32m   2777\u001b[0m \u001b[39mself\u001b[39m\u001b[39m.\u001b[39m_revalidate()\n\u001b[1;32m-> 2778\u001b[0m \u001b[39mreturn\u001b[39;00m \u001b[39mself\u001b[39m\u001b[39m.\u001b[39m_transformed_points, \u001b[39mself\u001b[39;49m\u001b[39m.\u001b[39;49mget_affine()\n",
      "File \u001b[1;32mc:\\Users\\aaron\\AppData\\Local\\Programs\\Python\\Python39\\lib\\site-packages\\matplotlib\\transforms.py:2797\u001b[0m, in \u001b[0;36mTransformedPath.get_affine\u001b[1;34m(self)\u001b[0m\n\u001b[0;32m   2796\u001b[0m \u001b[39mdef\u001b[39;00m \u001b[39mget_affine\u001b[39m(\u001b[39mself\u001b[39m):\n\u001b[1;32m-> 2797\u001b[0m     \u001b[39mreturn\u001b[39;00m \u001b[39mself\u001b[39;49m\u001b[39m.\u001b[39;49m_transform\u001b[39m.\u001b[39;49mget_affine()\n",
      "File \u001b[1;32mc:\\Users\\aaron\\AppData\\Local\\Programs\\Python\\Python39\\lib\\site-packages\\matplotlib\\transforms.py:2446\u001b[0m, in \u001b[0;36mCompositeGenericTransform.get_affine\u001b[1;34m(self)\u001b[0m\n\u001b[0;32m   2444\u001b[0m     \u001b[39mreturn\u001b[39;00m \u001b[39mself\u001b[39m\u001b[39m.\u001b[39m_b\u001b[39m.\u001b[39mget_affine()\n\u001b[0;32m   2445\u001b[0m \u001b[39melse\u001b[39;00m:\n\u001b[1;32m-> 2446\u001b[0m     \u001b[39mreturn\u001b[39;00m Affine2D(np\u001b[39m.\u001b[39mdot(\u001b[39mself\u001b[39;49m\u001b[39m.\u001b[39;49m_b\u001b[39m.\u001b[39;49mget_affine()\u001b[39m.\u001b[39mget_matrix(),\n\u001b[0;32m   2447\u001b[0m                            \u001b[39mself\u001b[39m\u001b[39m.\u001b[39m_a\u001b[39m.\u001b[39mget_affine()\u001b[39m.\u001b[39mget_matrix()))\n",
      "File \u001b[1;32mc:\\Users\\aaron\\AppData\\Local\\Programs\\Python\\Python39\\lib\\site-packages\\matplotlib\\transforms.py:2446\u001b[0m, in \u001b[0;36mCompositeGenericTransform.get_affine\u001b[1;34m(self)\u001b[0m\n\u001b[0;32m   2444\u001b[0m     \u001b[39mreturn\u001b[39;00m \u001b[39mself\u001b[39m\u001b[39m.\u001b[39m_b\u001b[39m.\u001b[39mget_affine()\n\u001b[0;32m   2445\u001b[0m \u001b[39melse\u001b[39;00m:\n\u001b[1;32m-> 2446\u001b[0m     \u001b[39mreturn\u001b[39;00m Affine2D(np\u001b[39m.\u001b[39;49mdot(\u001b[39mself\u001b[39;49m\u001b[39m.\u001b[39;49m_b\u001b[39m.\u001b[39;49mget_affine()\u001b[39m.\u001b[39;49mget_matrix(),\n\u001b[0;32m   2447\u001b[0m                            \u001b[39mself\u001b[39;49m\u001b[39m.\u001b[39;49m_a\u001b[39m.\u001b[39;49mget_affine()\u001b[39m.\u001b[39;49mget_matrix()))\n",
      "File \u001b[1;32m<__array_function__ internals>:179\u001b[0m, in \u001b[0;36mdot\u001b[1;34m(*args, **kwargs)\u001b[0m\n",
      "\u001b[1;31mKeyboardInterrupt\u001b[0m: "
     ]
    }
   ],
   "source": [
    "for i in np.arange(0,ylist.shape[1]):\n",
    "    if stab[i] == False:\n",
    "        plt.plot(ylist[2,i],ylist[1,i],'g.',markersize=2,label = 'stable eq')\n",
    "    elif stab[i] == True:\n",
    "        plt.plot(ylist[2,i],ylist[1,i],'r.',markersize=2,label = 'unstable eq')\n",
    "    elif stab[i] == 10:\n",
    "        plt.plot(ylist[2,i],ylist[1,i],marker='o',color='b',markersize=6,label='SN')\n",
    "        print(ylist[0,i],ylist[1,i], ylist[2,i])\n",
    "        #print(eig_val[i])\n",
    "        \n",
    "    else:\n",
    "        print('Error - undefined stability type')\n",
    "\n",
    "print(eig_val)"
   ]
  },
  {
   "cell_type": "markdown",
   "metadata": {},
   "source": [
    "# 2 Parameter Track (in b and g)\n",
    "The change in stability found above was likely a hopf Bif"
   ]
  },
  {
   "cell_type": "code",
   "execution_count": null,
   "metadata": {},
   "outputs": [],
   "source": [
    "#Define functions\n",
    "def df_2param(y):\n",
    "    J = MyJacobian(lambda x:userf1(0,x,np.array([y[3],y[2]])),y[0:2],h)\n",
    "    J = np.squeeze(J,axis=2)\n",
    "    return J\n",
    "\n",
    "######### Fold Bif ############\n",
    "\n",
    "RHS_fold = lambda y: np.append(userf1(0,y[0:2,:],np.array([y[3,:],y[2,:]])),\n",
    "                               np.expand_dims(np.array([linalg.det(df_2param(y))]),axis=1),axis=0)\n",
    "\n",
    "df_fold= lambda y: np.squeeze(MyJacobian(RHS_fold,y,h),axis=2)\n",
    "\n",
    "######### Hopf Bif ############\n",
    "\n",
    "RHS_hopf = lambda y: np.append(userf1(0,y[0:2,:],np.array([y[3,:],y[2,:]])),\n",
    "                               np.expand_dims(np.array([np.trace(df_2param(y))]),axis=1),axis=0)\n",
    "\n",
    "df_hopf= lambda y: np.squeeze(MyJacobian(RHS_hopf,y,h),axis=2)"
   ]
  },
  {
   "cell_type": "markdown",
   "metadata": {},
   "source": [
    "### Track Curve"
   ]
  },
  {
   "cell_type": "code",
   "execution_count": null,
   "metadata": {},
   "outputs": [
    {
     "name": "stdout",
     "output_type": "stream",
     "text": [
      "y0 [ 7.39647752  0.27053471 -0.17675372  1.        ]\n",
      "ytan [ 0.00287664 -0.2590004  -0.12936649  0.95717022]\n"
     ]
    }
   ],
   "source": [
    "#RHS_used and df_used is either RHS_fold or RHS_hopf\n",
    "RHS_used = RHS_hopf\n",
    "df_used = df_hopf\n",
    "\n",
    "\n",
    "# Define MyTrackCurve initial points\n",
    "b = 1\n",
    "f_inds = np.where(stab == 10)[0]\n",
    "y0 = np.array([ylist[0,f_inds[0]], ylist[1,f_inds[0]], ylist[2,f_inds[0]],b])\n",
    "print('y0', y0)\n",
    "\n",
    "p_i =np.array([b, ylist[2,f_inds[0]]])\n",
    "J = MyJacobian(lambda x:userf1(0,x,p_i),ylist[0:2,f_inds[0]],h)\n",
    "eig_val = linalg.eig(J[:,:,0])[0]\n",
    "\n",
    "\n",
    "ytan0 = np.expand_dims(np.array([0,0,1,1]),axis=1) # guess i the direction of increasing params\n",
    "\n",
    "# Solve for the true initial tangent\n",
    "df0 = np.squeeze(df_used(y0))\n",
    "zeros0 = np.zeros((3,))\n",
    "zeros1 = np.append(zeros0,np.array([1.]),axis=0)\n",
    "f0 = np.concatenate((df0,np.transpose(ytan0)),axis=0)\n",
    "z = np.linalg.lstsq(f0,zeros1,rcond=None)[0]\n",
    "mult = np.sign(np.matmul(np.transpose(z),ytan0))\n",
    "ytan = np.divide(z,linalg.norm(z))*mult\n",
    "print('ytan', ytan)\n",
    "\n",
    "yused1 = MyTrackCurve(RHS_used,df_used,y0,ytan,stepsize=0.1,nmax=200)\n",
    "\n",
    "# guess in direction for decreasing params\n",
    "ytan0 = np.expand_dims(np.array([0,0,-1,-1]),axis=1)\n",
    "\n",
    "# Solve for the true initial tangent\n",
    "f0 = np.concatenate((df0,np.transpose(ytan0)),axis=0)\n",
    "z = np.linalg.lstsq(f0,zeros1,rcond=None)[0]\n",
    "mult = np.sign(np.matmul(np.transpose(z),ytan0))\n",
    "ytan = np.divide(z,linalg.norm(z))*mult\n",
    "\n",
    "yused2 = MyTrackCurve(RHS_used,df_used,y0,ytan,stepsize=0.1,nmax=200)"
   ]
  },
  {
   "cell_type": "code",
   "execution_count": null,
   "metadata": {},
   "outputs": [
    {
     "data": {
      "image/png": "[encoded data removed]",
      "text/plain": [
       "<Figure size 1080x288 with 3 Axes>"
      ]
     },
     "metadata": {
      "needs_background": "light"
     },
     "output_type": "display_data"
    }
   ],
   "source": [
    "yused = np.concatenate((np.flip(yused2,1),yused1),axis=1)\n",
    "#print(yused)\n",
    "fig, axs = plt.subplots(1, 3, figsize=(15, 4))\n",
    "\n",
    "ax1 = axs[0]\n",
    "ax1.plot(yused[3,:],yused[2,:], label = 'b vs g')\n",
    "#ax1.plot(yused1[:,2],yused1[:,3], label = 'b vs g')\n",
    "ax1.set_xlabel(\"$b$\")\n",
    "ax1.set_ylabel(\"$g$\")\n",
    "ax1.set_xlim(-2,10)\n",
    "ax1.set_ylim(-1,1)\n",
    "ax1.legend()\n",
    "ax1.set_title(\"\")\n",
    "\n",
    "#plt.axis([0.7,1.3,0,100])\n",
    "\n",
    "plt.show()"
   ]
  }
 ],
 "metadata": {
  "kernelspec": {
   "display_name": "Python 3",
   "language": "python",
   "name": "python3"
  },
  "language_info": {
   "codemirror_mode": {
    "name": "ipython",
    "version": 3
   },
   "file_extension": ".py",
   "mimetype": "text/x-python",
   "name": "python",
   "nbconvert_exporter": "python",
   "pygments_lexer": "ipython3",
   "version": "3.9.1"
  },
  "orig_nbformat": 4
 },
 "nbformat": 4,
 "nbformat_minor": 2
}
