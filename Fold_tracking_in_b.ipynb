{
 "cells": [
  {
   "cell_type": "code",
   "execution_count": 1,
   "metadata": {},
   "outputs": [],
   "source": [
    "from custom_functions import *\n",
    "import numpy as np\n",
    "import matplotlib.pyplot as plt\n",
    "from scipy.integrate import odeint"
   ]
  },
  {
   "cell_type": "markdown",
   "metadata": {},
   "source": [
    "# Find Eq with b = 0.1, g = 0.3"
   ]
  },
  {
   "cell_type": "code",
   "execution_count": 2,
   "metadata": {},
   "outputs": [],
   "source": [
    "def f1(x_arr, b, g):\n",
    "    #x_arr is an array where x_arr[0] = x and x_arr[1] = z\n",
    "\n",
    "    dxdt = x_arr[0] - (x_arr[0]**2)*np.exp(-b*x_arr[0]*x_arr[1])\n",
    "    dzdt = x_arr[1] - (x_arr[1]**2)*np.exp(-g*x_arr[0])\n",
    "\n",
    "    return np.array([dxdt, dzdt])\n",
    "\n",
    "def userf1(t, x_arr, p):\n",
    "    '''2D ODE system for the AMOC\n",
    "    Input\n",
    "    t  : float\n",
    "        time value\n",
    "    x  : array (2, N)\n",
    "        state space values\n",
    "    p  : array (2,)\n",
    "        parameter values\n",
    "    \n",
    "    \n",
    "    Returns\n",
    "    xout: array, shape (2, N)\n",
    "           Array containing derivative at x\n",
    "           2nd dimension denotes derivatives for different points\n",
    "    '''\n",
    "    \n",
    "    if x_arr.ndim == 1:\n",
    "        x_arr = np.expand_dims(x_arr, axis=1)\n",
    "    \n",
    "    n = x_arr.shape\n",
    "    xout = np.empty(n)\n",
    "    xout[:] = np.nan \n",
    "\n",
    "    b = p[0,]\n",
    "    g = p[1,]\n",
    "    \n",
    "    \n",
    "    b = 1\n",
    "    xout[0,:] = x_arr[0, :] - (x_arr[0, :]**2)*np.exp(-b*x_arr[0, :]*x_arr[1, :])\n",
    "    xout[1,:] = x_arr[1, :] - (x_arr[1, :]**2)*np.exp(-g*x_arr[0, :])\n",
    "    return xout"
   ]
  },
  {
   "cell_type": "code",
   "execution_count": 8,
   "metadata": {},
   "outputs": [],
   "source": [
    "def function_being_used(x0):\n",
    "    b = 0.1\n",
    "    g = 0.3\n",
    "    return f1(x0, b, g)\n",
    "\n",
    "\n",
    "def df(x):\n",
    "    h = 1e-06\n",
    "    J = MyJacobian(function_being_used, x, h)\n",
    "    J = np.squeeze(J, axis = 2)\n",
    "    return J\n",
    "    \n",
    "def grid_of_coords(max_x_val, increment):\n",
    "    x=np.linspace(-max_x_val, max_x_val, int(2*max_x_val/increment + 1))\n",
    "    y=np.linspace(-max_x_val, max_x_val, int(2*max_x_val/increment + 1))\n",
    "\n",
    "    xx,yy=np.meshgrid(x,y)\n",
    "    coords=np.array((xx.ravel(), yy.ravel())).T\n",
    "    return coords\n",
    "\n",
    "def bin_repeats(points, threshold):\n",
    "\n",
    "    # Function to calculate the distance between two points\n",
    "    def distance(point1, point2):\n",
    "        return np.sqrt(np.sum((point1 - point2) ** 2))\n",
    "\n",
    "    # Create a mask for points to keep\n",
    "    keep_mask = np.ones(len(points), dtype=bool)\n",
    "\n",
    "    # Iterate through the points and filter based on the threshold\n",
    "    for i in range(len(points)):\n",
    "        if keep_mask[i]:\n",
    "            for j in range(i + 1, len(points)):\n",
    "                if distance(points[i], points[j]) < threshold:\n",
    "                    keep_mask[j] = False\n",
    "\n",
    "    # Use the mask to filter the points and create a 2D NumPy array\n",
    "    return points[keep_mask] "
   ]
  },
  {
   "cell_type": "markdown",
   "metadata": {},
   "source": [
    "### Loop through a grip of points and bin the repeated equilibrium points"
   ]
  },
  {
   "cell_type": "code",
   "execution_count": 10,
   "metadata": {},
   "outputs": [
    {
     "name": "stderr",
     "output_type": "stream",
     "text": [
      "C:\\Users\\aaron\\AppData\\Local\\Temp\\ipykernel_31040\\1078167138.py:4: RuntimeWarning: overflow encountered in exp\n",
      "  dxdt = x_arr[0] - (x_arr[0]**2)*np.exp(-b*x_arr[0]*x_arr[1])\n"
     ]
    },
    {
     "name": "stdout",
     "output_type": "stream",
     "text": [
      "matrix is singular\n",
      "matrix is singular\n",
      "matrix is singular\n",
      "matrix is singular\n",
      "matrix is singular\n",
      "matrix is singular\n",
      "matrix is singular\n",
      "matrix is singular\n",
      "matrix is singular\n",
      "matrix is singular\n",
      "matrix is singular\n",
      "matrix is singular\n",
      "matrix is singular\n",
      "matrix is singular\n",
      "matrix is singular\n",
      "matrix is singular\n",
      "matrix is singular\n",
      "matrix is singular\n",
      "matrix is singular\n",
      "matrix is singular\n",
      "matrix is singular\n",
      "matrix is singular\n",
      "matrix is singular\n",
      "[[ 0.00000000e+00 -1.86191570e-22]\n",
      " [ 1.00000000e+00  0.00000000e+00]\n",
      " [-2.64213399e-18  1.00000000e+00]\n",
      " [ 1.18399237e+00  1.42646265e+00]\n",
      " [ 4.11586338e+00  3.43755002e+00]]\n"
     ]
    }
   ],
   "source": [
    "x0 = np.array([0, 1.])\n",
    "tol = 1e-8\n",
    "maxit = 100\n",
    "\n",
    "coords = grid_of_coords(10, 0.25)\n",
    "eqlib_list = np.empty(shape=[0, 2])\n",
    "\n",
    "for i in coords:\n",
    "    x , converged , jacobian = MySolve(function_being_used, i, df, tol, maxit)\n",
    "    \n",
    "    if converged:\n",
    "        x = np.squeeze(x, axis = 1)\n",
    "        eqlib_list = np.append(eqlib_list, np.array([x]), axis=0)\n",
    "\n",
    "print(bin_repeats(eqlib_list, 1e-5))\n",
    "equlib_list = bin_repeats(eqlib_list, 1e-5)\n"
   ]
  },
  {
   "cell_type": "markdown",
   "metadata": {},
   "source": [
    "## Determine stability\n",
    "For b = 0.1 and g = 0.3 the equilibrium points are $x_{l1} = [ 1.184, 1.426]$ and $x_{l2} = [ 4.116, 3.438]$"
   ]
  },
  {
   "cell_type": "code",
   "execution_count": 9,
   "metadata": {},
   "outputs": [
    {
     "name": "stdout",
     "output_type": "stream",
     "text": [
      "[[ 0.00000000e+00 -1.86191570e-22]\n",
      " [ 1.00000000e+00  0.00000000e+00]\n",
      " [-2.64213399e-18  1.00000000e+00]\n",
      " [ 1.18399237e+00  1.42646265e+00]\n",
      " [ 4.11586338e+00  3.43755002e+00]]\n"
     ]
    }
   ],
   "source": []
  },
  {
   "cell_type": "code",
   "execution_count": 6,
   "metadata": {},
   "outputs": [
    {
     "name": "stdout",
     "output_type": "stream",
     "text": [
      "[8.12862606e+42 1.88548325e+42]\n"
     ]
    },
    {
     "data": {
      "image/png": "[encoded data removed]",
      "text/plain": [
       "<Figure size 432x288 with 1 Axes>"
      ]
     },
     "metadata": {
      "needs_background": "light"
     },
     "output_type": "display_data"
    }
   ],
   "source": [
    "# Define parameters p\n",
    "b = 0.1; g = 0.3; p = np.array([b, g])\n",
    "\n",
    "#define variable to go into MyIVP\n",
    "x0 = np.array([1.5,0.2])\n",
    "tspan = [0,100]\n",
    "h = 0.01\n",
    "\n",
    "#call MyIVP\n",
    "[X,t,xeq1] = MyIVP(lambda t,x:userf1(t,x,p),x0,tspan,h)\n",
    "X = np.squeeze(X)\n",
    "xeq1 = np.squeeze(xeq1)\n",
    "print(xeq1)\n",
    "\n",
    "#Plot\n",
    "plt.plot(X[0,:],X[1,:])\n",
    "plt.xlabel(\"$x$\")\n",
    "plt.ylabel(\"$y$\")\n",
    "plt.title(\"Phase plane: F=0\")\n",
    "\n",
    "plt.show()"
   ]
  }
 ],
 "metadata": {
  "kernelspec": {
   "display_name": "Python 3",
   "language": "python",
   "name": "python3"
  },
  "language_info": {
   "codemirror_mode": {
    "name": "ipython",
    "version": 3
   },
   "file_extension": ".py",
   "mimetype": "text/x-python",
   "name": "python",
   "nbconvert_exporter": "python",
   "pygments_lexer": "ipython3",
   "version": "3.9.1"
  },
  "orig_nbformat": 4
 },
 "nbformat": 4,
 "nbformat_minor": 2
}
